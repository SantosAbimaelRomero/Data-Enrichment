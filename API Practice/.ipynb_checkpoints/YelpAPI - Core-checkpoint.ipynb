{
 "cells": [
  {
   "cell_type": "markdown",
   "id": "b849a898",
   "metadata": {},
   "source": [
    "# Task\n",
    "___\n",
    "Create my own JSON file using efficient API call methods to retrieve data."
   ]
  },
  {
   "cell_type": "code",
   "execution_count": 10,
   "id": "be4a167b",
   "metadata": {},
   "outputs": [],
   "source": [
    "import pandas as pd\n",
    "import math, time, json, os\n",
    "from yelpapi import YelpAPI\n",
    "from tqdm.notebook import tqdm_notebook"
   ]
  },
  {
   "cell_type": "code",
   "execution_count": 12,
   "id": "e13b9021",
   "metadata": {},
   "outputs": [],
   "source": [
    "# API Credentials\n",
    "with open('/Users/aveld/secret/yelp_api.json') as f:\n",
    "    login = json.load(f)\n",
    "    \n",
    "yelp_api = YelpAPI(login['api-key'], timeout_s=5.0)"
   ]
  },
  {
   "cell_type": "code",
   "execution_count": 13,
   "id": "200c77f0",
   "metadata": {},
   "outputs": [],
   "source": [
    "# API parameters\n",
    "LOCATION = 'Boston, MA'\n",
    "TERM = 'Ice Cream'"
   ]
  },
  {
   "cell_type": "code",
   "execution_count": 14,
   "id": "2c9ed936",
   "metadata": {},
   "outputs": [
    {
     "data": {
      "text/plain": [
       "'Data/results_in_boston_icecream.json'"
      ]
     },
     "execution_count": 14,
     "metadata": {},
     "output_type": "execute_result"
    }
   ],
   "source": [
    "# Create JSON file function\n",
    "def create_json(JSON_FILE, exists=False):\n",
    "    "
   ]
  },
  {
   "cell_type": "code",
   "execution_count": null,
   "id": "f0f9518d",
   "metadata": {},
   "outputs": [],
   "source": []
  }
 ],
 "metadata": {
  "kernelspec": {
   "display_name": "Python (dojo-env)",
   "language": "python",
   "name": "dojo-env"
  },
  "language_info": {
   "codemirror_mode": {
    "name": "ipython",
    "version": 3
   },
   "file_extension": ".py",
   "mimetype": "text/x-python",
   "name": "python",
   "nbconvert_exporter": "python",
   "pygments_lexer": "ipython3",
   "version": "3.9.15"
  },
  "toc": {
   "base_numbering": 1,
   "nav_menu": {},
   "number_sections": false,
   "sideBar": true,
   "skip_h1_title": false,
   "title_cell": "Table of Contents",
   "title_sidebar": "Contents",
   "toc_cell": false,
   "toc_position": {},
   "toc_section_display": true,
   "toc_window_display": false
  }
 },
 "nbformat": 4,
 "nbformat_minor": 5
}
