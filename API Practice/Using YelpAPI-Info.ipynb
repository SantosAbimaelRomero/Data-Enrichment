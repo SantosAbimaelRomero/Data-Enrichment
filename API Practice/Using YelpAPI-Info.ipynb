{
 "cells": [
  {
   "cell_type": "markdown",
   "id": "1173af26",
   "metadata": {},
   "source": [
    "# Install yelpapi"
   ]
  },
  {
   "cell_type": "markdown",
   "id": "0687079c",
   "metadata": {},
   "source": [
    "You typically will need to install the yelapi package to use the functions it provides, you can also find documentation for this here:\n",
    "https://github.com/lanl/yelpapi"
   ]
  },
  {
   "cell_type": "code",
   "execution_count": 1,
   "id": "f745e5c1",
   "metadata": {},
   "outputs": [
    {
     "name": "stdout",
     "output_type": "stream",
     "text": [
      "Requirement already satisfied: yelpapi in c:\\users\\aveld\\anaconda3\\envs\\dojo-env\\lib\\site-packages (2.5.0)\n",
      "Requirement already satisfied: requests in c:\\users\\aveld\\anaconda3\\envs\\dojo-env\\lib\\site-packages (from yelpapi) (2.28.1)\n",
      "Requirement already satisfied: idna<4,>=2.5 in c:\\users\\aveld\\anaconda3\\envs\\dojo-env\\lib\\site-packages (from requests->yelpapi) (3.4)\n",
      "Requirement already satisfied: charset-normalizer<3,>=2 in c:\\users\\aveld\\anaconda3\\envs\\dojo-env\\lib\\site-packages (from requests->yelpapi) (2.0.4)\n",
      "Requirement already satisfied: urllib3<1.27,>=1.21.1 in c:\\users\\aveld\\anaconda3\\envs\\dojo-env\\lib\\site-packages (from requests->yelpapi) (1.26.13)\n",
      "Requirement already satisfied: certifi>=2017.4.17 in c:\\users\\aveld\\anaconda3\\envs\\dojo-env\\lib\\site-packages (from requests->yelpapi) (2022.9.24)\n",
      "Note: you may need to restart the kernel to use updated packages.\n"
     ]
    }
   ],
   "source": [
    "pip install yelpapi"
   ]
  },
  {
   "cell_type": "markdown",
   "id": "d7d2034c",
   "metadata": {},
   "source": [
    "# Using YelAPI with Python"
   ]
  },
  {
   "cell_type": "code",
   "execution_count": 2,
   "id": "40c54e3b",
   "metadata": {},
   "outputs": [
    {
     "data": {
      "text/plain": [
       "dict_keys(['client-id', 'api-key'])"
      ]
     },
     "execution_count": 2,
     "metadata": {},
     "output_type": "execute_result"
    }
   ],
   "source": [
    "# First load API credentials\n",
    "import json\n",
    "with open('/Users/aveld/secret/yelp_api.json') as f:\n",
    "    login = json.load(f)\n",
    "login.keys()"
   ]
  },
  {
   "cell_type": "code",
   "execution_count": 3,
   "id": "9861f162",
   "metadata": {},
   "outputs": [
    {
     "data": {
      "text/plain": [
       "<yelpapi.yelpapi.YelpAPI at 0x1e310aa67f0>"
      ]
     },
     "execution_count": 3,
     "metadata": {},
     "output_type": "execute_result"
    }
   ],
   "source": [
    "# import YelpAPI Class\n",
    "from yelpapi import YelpAPI\n",
    "# Create an instance w/ your key\n",
    "yelp_api = YelpAPI(login['api-key'], timeout_s = 5.0)\n",
    "yelp_api"
   ]
  },
  {
   "cell_type": "markdown",
   "id": "56c43e9e",
   "metadata": {},
   "source": [
    "To use the \"businesses search\" endpoint we will use the yelp_api.search_query method.\n",
    "\n",
    "If we inspect the docstring for the function (either run the help function on it or place your cursor inside the parenthesis for it and hit Shift+Tab), we see that it doesn't tell us very much."
   ]
  },
  {
   "cell_type": "code",
   "execution_count": 4,
   "id": "32864760",
   "metadata": {},
   "outputs": [
    {
     "name": "stdout",
     "output_type": "stream",
     "text": [
      "Help on method search_query in module yelpapi.yelpapi:\n",
      "\n",
      "search_query(**kwargs) method of yelpapi.yelpapi.YelpAPI instance\n",
      "    Query the Yelp Search API.\n",
      "    \n",
      "    documentation: https://www.yelp.com/developers/documentation/v3/business_search\n",
      "    \n",
      "    required parameters:\n",
      "        * one of either:\n",
      "            * location - text specifying a location to search for\n",
      "            * latitude and longitude\n",
      "\n"
     ]
    }
   ],
   "source": [
    "help(yelp_api.search_query)"
   ]
  },
  {
   "cell_type": "markdown",
   "id": "90b6d1d3",
   "metadata": {},
   "source": [
    "The only arguments/parameters that the docstring mentions are location or latitude & longitude.\n",
    "\n",
    "Notice that the link to the official API documentation is linked instead.\n",
    "\n",
    "This is because this documentation only shows what the required parameters are, but it will accept ANY of the parameters that are accepted by the business_search endpoint.\n",
    "\n",
    "Meaning we need to familiarize ourselves with what the business_search endpoint parameters are on Yelp Fusion and simply apply them in our code as needed."
   ]
  },
  {
   "cell_type": "code",
   "execution_count": 6,
   "id": "37f8fc4a",
   "metadata": {},
   "outputs": [
    {
     "name": "stdout",
     "output_type": "stream",
     "text": [
      "<class 'dict'>\n"
     ]
    },
    {
     "data": {
      "text/plain": [
       "dict_keys(['businesses', 'total', 'region'])"
      ]
     },
     "execution_count": 6,
     "metadata": {},
     "output_type": "execute_result"
    }
   ],
   "source": [
    "search_results = yelp_api.search_query(location = 'NY, NY',\n",
    "                                      term = 'pizza')\n",
    "print(type(search_results))\n",
    "search_results.keys()"
   ]
  },
  {
   "cell_type": "markdown",
   "id": "d5c3e0f7",
   "metadata": {},
   "source": [
    "The package returns the results in the JSON format we have been exploring. Note that the exact results may vary as the Yelp site is constantly changing."
   ]
  },
  {
   "cell_type": "code",
   "execution_count": 7,
   "id": "de3ee0ae",
   "metadata": {},
   "outputs": [
    {
     "data": {
      "text/plain": [
       "12300"
      ]
     },
     "execution_count": 7,
     "metadata": {},
     "output_type": "execute_result"
    }
   ],
   "source": [
    "search_results['total']"
   ]
  },
  {
   "cell_type": "code",
   "execution_count": 9,
   "id": "65a7ab9c",
   "metadata": {},
   "outputs": [
    {
     "data": {
      "text/html": [
       "<div>\n",
       "<style scoped>\n",
       "    .dataframe tbody tr th:only-of-type {\n",
       "        vertical-align: middle;\n",
       "    }\n",
       "\n",
       "    .dataframe tbody tr th {\n",
       "        vertical-align: top;\n",
       "    }\n",
       "\n",
       "    .dataframe thead th {\n",
       "        text-align: right;\n",
       "    }\n",
       "</style>\n",
       "<table border=\"1\" class=\"dataframe\">\n",
       "  <thead>\n",
       "    <tr style=\"text-align: right;\">\n",
       "      <th></th>\n",
       "      <th>id</th>\n",
       "      <th>alias</th>\n",
       "      <th>name</th>\n",
       "      <th>image_url</th>\n",
       "      <th>is_closed</th>\n",
       "      <th>url</th>\n",
       "      <th>review_count</th>\n",
       "      <th>categories</th>\n",
       "      <th>rating</th>\n",
       "      <th>coordinates</th>\n",
       "      <th>transactions</th>\n",
       "      <th>price</th>\n",
       "      <th>location</th>\n",
       "      <th>phone</th>\n",
       "      <th>display_phone</th>\n",
       "      <th>distance</th>\n",
       "    </tr>\n",
       "  </thead>\n",
       "  <tbody>\n",
       "    <tr>\n",
       "      <th>0</th>\n",
       "      <td>zj8Lq1T8KIC5zwFief15jg</td>\n",
       "      <td>prince-street-pizza-new-york-2</td>\n",
       "      <td>Prince Street Pizza</td>\n",
       "      <td>https://s3-media2.fl.yelpcdn.com/bphoto/I4gm7i...</td>\n",
       "      <td>False</td>\n",
       "      <td>https://www.yelp.com/biz/prince-street-pizza-n...</td>\n",
       "      <td>4661</td>\n",
       "      <td>[{'alias': 'pizza', 'title': 'Pizza'}, {'alias...</td>\n",
       "      <td>4.5</td>\n",
       "      <td>{'latitude': 40.72308755605564, 'longitude': -...</td>\n",
       "      <td>[pickup, delivery]</td>\n",
       "      <td>$</td>\n",
       "      <td>{'address1': '27 Prince St', 'address2': None,...</td>\n",
       "      <td>+12129664100</td>\n",
       "      <td>(212) 966-4100</td>\n",
       "      <td>1961.877142</td>\n",
       "    </tr>\n",
       "    <tr>\n",
       "      <th>1</th>\n",
       "      <td>ysqgdbSrezXgVwER2kQWKA</td>\n",
       "      <td>julianas-brooklyn-3</td>\n",
       "      <td>Juliana's</td>\n",
       "      <td>https://s3-media2.fl.yelpcdn.com/bphoto/NVoLFl...</td>\n",
       "      <td>False</td>\n",
       "      <td>https://www.yelp.com/biz/julianas-brooklyn-3?a...</td>\n",
       "      <td>2584</td>\n",
       "      <td>[{'alias': 'pizza', 'title': 'Pizza'}]</td>\n",
       "      <td>4.5</td>\n",
       "      <td>{'latitude': 40.70274718768062, 'longitude': -...</td>\n",
       "      <td>[delivery]</td>\n",
       "      <td>$$</td>\n",
       "      <td>{'address1': '19 Old Fulton St', 'address2': '...</td>\n",
       "      <td>+17185966700</td>\n",
       "      <td>(718) 596-6700</td>\n",
       "      <td>308.569844</td>\n",
       "    </tr>\n",
       "  </tbody>\n",
       "</table>\n",
       "</div>"
      ],
      "text/plain": [
       "                       id                           alias  \\\n",
       "0  zj8Lq1T8KIC5zwFief15jg  prince-street-pizza-new-york-2   \n",
       "1  ysqgdbSrezXgVwER2kQWKA             julianas-brooklyn-3   \n",
       "\n",
       "                  name                                          image_url  \\\n",
       "0  Prince Street Pizza  https://s3-media2.fl.yelpcdn.com/bphoto/I4gm7i...   \n",
       "1            Juliana's  https://s3-media2.fl.yelpcdn.com/bphoto/NVoLFl...   \n",
       "\n",
       "   is_closed                                                url  review_count  \\\n",
       "0      False  https://www.yelp.com/biz/prince-street-pizza-n...          4661   \n",
       "1      False  https://www.yelp.com/biz/julianas-brooklyn-3?a...          2584   \n",
       "\n",
       "                                          categories  rating  \\\n",
       "0  [{'alias': 'pizza', 'title': 'Pizza'}, {'alias...     4.5   \n",
       "1             [{'alias': 'pizza', 'title': 'Pizza'}]     4.5   \n",
       "\n",
       "                                         coordinates        transactions  \\\n",
       "0  {'latitude': 40.72308755605564, 'longitude': -...  [pickup, delivery]   \n",
       "1  {'latitude': 40.70274718768062, 'longitude': -...          [delivery]   \n",
       "\n",
       "  price                                           location         phone  \\\n",
       "0     $  {'address1': '27 Prince St', 'address2': None,...  +12129664100   \n",
       "1    $$  {'address1': '19 Old Fulton St', 'address2': '...  +17185966700   \n",
       "\n",
       "    display_phone     distance  \n",
       "0  (212) 966-4100  1961.877142  \n",
       "1  (718) 596-6700   308.569844  "
      ]
     },
     "execution_count": 9,
     "metadata": {},
     "output_type": "execute_result"
    }
   ],
   "source": [
    "import pandas as pd\n",
    "\n",
    "biz = pd.DataFrame(search_results['businesses'])\n",
    "biz.head(2) "
   ]
  },
  {
   "cell_type": "markdown",
   "id": "e4a643c3",
   "metadata": {},
   "source": [
    "# Pagination and Offset"
   ]
  },
  {
   "cell_type": "markdown",
   "id": "938e6f7e",
   "metadata": {},
   "source": [
    "**Pagination**:\n",
    "    \n",
    "   To explain let's look at google first. When you do a google search, there are thousands of results but you only see one page of results at a time instead of a single really long page with all the results.\n",
    "    \n",
    "   This is what happens with API calls as well, if we look at the values, there are 12,300 total results in the total key but we only have 20 businesses under the business key"
   ]
  },
  {
   "cell_type": "code",
   "execution_count": 11,
   "id": "0fb610dc",
   "metadata": {},
   "outputs": [
    {
     "data": {
      "text/plain": [
       "12300"
      ]
     },
     "execution_count": 11,
     "metadata": {},
     "output_type": "execute_result"
    }
   ],
   "source": [
    "# Total number of matching businesses\n",
    "search_results['total']"
   ]
  },
  {
   "cell_type": "code",
   "execution_count": 12,
   "id": "9ab06c71",
   "metadata": {},
   "outputs": [
    {
     "data": {
      "text/plain": [
       "20"
      ]
     },
     "execution_count": 12,
     "metadata": {},
     "output_type": "execute_result"
    }
   ],
   "source": [
    "## how many businesses in our results\n",
    "len(search_results['businesses'])"
   ]
  },
  {
   "cell_type": "markdown",
   "id": "f518ab17",
   "metadata": {},
   "source": [
    "**Offset**:\n",
    "\n",
    "Each API call will only give us \"one page\" of information at a time, to get the next page of information we change the Offset.\n",
    "\n",
    "When the offset is not set, we get the first \"page\" of results, then by verifying how many we got on the first call we change the offset accordingly for the next \"page\" of data.\n",
    "\n",
    "In this example, we got 20 results on the first call, so now we will make the same API call again except we will set the Offset to 20 so we can get the next \"page\" of results.\n",
    "\n",
    "The following call would be 40, then 60, etc."
   ]
  },
  {
   "cell_type": "code",
   "execution_count": 13,
   "id": "61ef2652",
   "metadata": {},
   "outputs": [],
   "source": [
    "search_results = yelp_api.search_query(location = 'NY, NY',\n",
    "                                      term = 'pizza',\n",
    "                                      offset = 20)"
   ]
  },
  {
   "cell_type": "code",
   "execution_count": 14,
   "id": "f3934fde",
   "metadata": {
    "scrolled": true
   },
   "outputs": [
    {
     "data": {
      "text/html": [
       "<div>\n",
       "<style scoped>\n",
       "    .dataframe tbody tr th:only-of-type {\n",
       "        vertical-align: middle;\n",
       "    }\n",
       "\n",
       "    .dataframe tbody tr th {\n",
       "        vertical-align: top;\n",
       "    }\n",
       "\n",
       "    .dataframe thead th {\n",
       "        text-align: right;\n",
       "    }\n",
       "</style>\n",
       "<table border=\"1\" class=\"dataframe\">\n",
       "  <thead>\n",
       "    <tr style=\"text-align: right;\">\n",
       "      <th></th>\n",
       "      <th>id</th>\n",
       "      <th>alias</th>\n",
       "      <th>name</th>\n",
       "      <th>image_url</th>\n",
       "      <th>is_closed</th>\n",
       "      <th>url</th>\n",
       "      <th>review_count</th>\n",
       "      <th>categories</th>\n",
       "      <th>rating</th>\n",
       "      <th>coordinates</th>\n",
       "      <th>transactions</th>\n",
       "      <th>price</th>\n",
       "      <th>location</th>\n",
       "      <th>phone</th>\n",
       "      <th>display_phone</th>\n",
       "      <th>distance</th>\n",
       "    </tr>\n",
       "  </thead>\n",
       "  <tbody>\n",
       "    <tr>\n",
       "      <th>0</th>\n",
       "      <td>MphfKkYFEe0BDQ6hZ0A5fA</td>\n",
       "      <td>gelso-and-grand-new-york</td>\n",
       "      <td>Gelso &amp; Grand</td>\n",
       "      <td>https://s3-media3.fl.yelpcdn.com/bphoto/ZV0bgS...</td>\n",
       "      <td>False</td>\n",
       "      <td>https://www.yelp.com/biz/gelso-and-grand-new-y...</td>\n",
       "      <td>1328</td>\n",
       "      <td>[{'alias': 'italian', 'title': 'Italian'}, {'a...</td>\n",
       "      <td>4.5</td>\n",
       "      <td>{'latitude': 40.71958, 'longitude': -73.99734}</td>\n",
       "      <td>[pickup, delivery]</td>\n",
       "      <td>$$</td>\n",
       "      <td>{'address1': '186 Grand St', 'address2': '', '...</td>\n",
       "      <td>+12122261600</td>\n",
       "      <td>(212) 226-1600</td>\n",
       "      <td>1593.688510</td>\n",
       "    </tr>\n",
       "    <tr>\n",
       "      <th>1</th>\n",
       "      <td>ZLPYcgEeRllSoeWyr7y4Ig</td>\n",
       "      <td>totonnos-brooklyn</td>\n",
       "      <td>Totonno's</td>\n",
       "      <td>https://s3-media3.fl.yelpcdn.com/bphoto/mPBQXh...</td>\n",
       "      <td>False</td>\n",
       "      <td>https://www.yelp.com/biz/totonnos-brooklyn?adj...</td>\n",
       "      <td>831</td>\n",
       "      <td>[{'alias': 'pizza', 'title': 'Pizza'}]</td>\n",
       "      <td>4.0</td>\n",
       "      <td>{'latitude': 40.578913225666966, 'longitude': ...</td>\n",
       "      <td>[pickup]</td>\n",
       "      <td>$$</td>\n",
       "      <td>{'address1': '1524 Neptune Ave', 'address2': '...</td>\n",
       "      <td>+17183728606</td>\n",
       "      <td>(718) 372-8606</td>\n",
       "      <td>14097.309578</td>\n",
       "    </tr>\n",
       "  </tbody>\n",
       "</table>\n",
       "</div>"
      ],
      "text/plain": [
       "                       id                     alias           name  \\\n",
       "0  MphfKkYFEe0BDQ6hZ0A5fA  gelso-and-grand-new-york  Gelso & Grand   \n",
       "1  ZLPYcgEeRllSoeWyr7y4Ig         totonnos-brooklyn      Totonno's   \n",
       "\n",
       "                                           image_url  is_closed  \\\n",
       "0  https://s3-media3.fl.yelpcdn.com/bphoto/ZV0bgS...      False   \n",
       "1  https://s3-media3.fl.yelpcdn.com/bphoto/mPBQXh...      False   \n",
       "\n",
       "                                                 url  review_count  \\\n",
       "0  https://www.yelp.com/biz/gelso-and-grand-new-y...          1328   \n",
       "1  https://www.yelp.com/biz/totonnos-brooklyn?adj...           831   \n",
       "\n",
       "                                          categories  rating  \\\n",
       "0  [{'alias': 'italian', 'title': 'Italian'}, {'a...     4.5   \n",
       "1             [{'alias': 'pizza', 'title': 'Pizza'}]     4.0   \n",
       "\n",
       "                                         coordinates        transactions  \\\n",
       "0     {'latitude': 40.71958, 'longitude': -73.99734}  [pickup, delivery]   \n",
       "1  {'latitude': 40.578913225666966, 'longitude': ...            [pickup]   \n",
       "\n",
       "  price                                           location         phone  \\\n",
       "0    $$  {'address1': '186 Grand St', 'address2': '', '...  +12122261600   \n",
       "1    $$  {'address1': '1524 Neptune Ave', 'address2': '...  +17183728606   \n",
       "\n",
       "    display_phone      distance  \n",
       "0  (212) 226-1600   1593.688510  \n",
       "1  (718) 372-8606  14097.309578  "
      ]
     },
     "execution_count": 14,
     "metadata": {},
     "output_type": "execute_result"
    }
   ],
   "source": [
    "# Check results\n",
    "biz_20 = pd.DataFrame(search_results['businesses'])\n",
    "biz_20.head(2)"
   ]
  },
  {
   "cell_type": "markdown",
   "id": "a5aea279",
   "metadata": {},
   "source": [
    "# Combining DataFrames"
   ]
  },
  {
   "cell_type": "markdown",
   "id": "d21f9fb0",
   "metadata": {},
   "source": [
    "Now that we have biz and biz_20, we can combine them into a single dataframe using `pd.concat()`"
   ]
  },
  {
   "cell_type": "code",
   "execution_count": 18,
   "id": "c4925763",
   "metadata": {},
   "outputs": [
    {
     "data": {
      "text/html": [
       "<div>\n",
       "<style scoped>\n",
       "    .dataframe tbody tr th:only-of-type {\n",
       "        vertical-align: middle;\n",
       "    }\n",
       "\n",
       "    .dataframe tbody tr th {\n",
       "        vertical-align: top;\n",
       "    }\n",
       "\n",
       "    .dataframe thead th {\n",
       "        text-align: right;\n",
       "    }\n",
       "</style>\n",
       "<table border=\"1\" class=\"dataframe\">\n",
       "  <thead>\n",
       "    <tr style=\"text-align: right;\">\n",
       "      <th></th>\n",
       "      <th>id</th>\n",
       "      <th>alias</th>\n",
       "      <th>name</th>\n",
       "      <th>image_url</th>\n",
       "      <th>is_closed</th>\n",
       "      <th>url</th>\n",
       "      <th>review_count</th>\n",
       "      <th>categories</th>\n",
       "      <th>rating</th>\n",
       "      <th>coordinates</th>\n",
       "      <th>transactions</th>\n",
       "      <th>price</th>\n",
       "      <th>location</th>\n",
       "      <th>phone</th>\n",
       "      <th>display_phone</th>\n",
       "      <th>distance</th>\n",
       "    </tr>\n",
       "  </thead>\n",
       "  <tbody>\n",
       "    <tr>\n",
       "      <th>0</th>\n",
       "      <td>zj8Lq1T8KIC5zwFief15jg</td>\n",
       "      <td>prince-street-pizza-new-york-2</td>\n",
       "      <td>Prince Street Pizza</td>\n",
       "      <td>https://s3-media2.fl.yelpcdn.com/bphoto/I4gm7i...</td>\n",
       "      <td>False</td>\n",
       "      <td>https://www.yelp.com/biz/prince-street-pizza-n...</td>\n",
       "      <td>4661</td>\n",
       "      <td>[{'alias': 'pizza', 'title': 'Pizza'}, {'alias...</td>\n",
       "      <td>4.5</td>\n",
       "      <td>{'latitude': 40.72308755605564, 'longitude': -...</td>\n",
       "      <td>[pickup, delivery]</td>\n",
       "      <td>$</td>\n",
       "      <td>{'address1': '27 Prince St', 'address2': None,...</td>\n",
       "      <td>+12129664100</td>\n",
       "      <td>(212) 966-4100</td>\n",
       "      <td>1961.877142</td>\n",
       "    </tr>\n",
       "    <tr>\n",
       "      <th>1</th>\n",
       "      <td>ysqgdbSrezXgVwER2kQWKA</td>\n",
       "      <td>julianas-brooklyn-3</td>\n",
       "      <td>Juliana's</td>\n",
       "      <td>https://s3-media2.fl.yelpcdn.com/bphoto/NVoLFl...</td>\n",
       "      <td>False</td>\n",
       "      <td>https://www.yelp.com/biz/julianas-brooklyn-3?a...</td>\n",
       "      <td>2584</td>\n",
       "      <td>[{'alias': 'pizza', 'title': 'Pizza'}]</td>\n",
       "      <td>4.5</td>\n",
       "      <td>{'latitude': 40.70274718768062, 'longitude': -...</td>\n",
       "      <td>[delivery]</td>\n",
       "      <td>$$</td>\n",
       "      <td>{'address1': '19 Old Fulton St', 'address2': '...</td>\n",
       "      <td>+17185966700</td>\n",
       "      <td>(718) 596-6700</td>\n",
       "      <td>308.569844</td>\n",
       "    </tr>\n",
       "  </tbody>\n",
       "</table>\n",
       "</div>"
      ],
      "text/plain": [
       "                       id                           alias  \\\n",
       "0  zj8Lq1T8KIC5zwFief15jg  prince-street-pizza-new-york-2   \n",
       "1  ysqgdbSrezXgVwER2kQWKA             julianas-brooklyn-3   \n",
       "\n",
       "                  name                                          image_url  \\\n",
       "0  Prince Street Pizza  https://s3-media2.fl.yelpcdn.com/bphoto/I4gm7i...   \n",
       "1            Juliana's  https://s3-media2.fl.yelpcdn.com/bphoto/NVoLFl...   \n",
       "\n",
       "   is_closed                                                url  review_count  \\\n",
       "0      False  https://www.yelp.com/biz/prince-street-pizza-n...          4661   \n",
       "1      False  https://www.yelp.com/biz/julianas-brooklyn-3?a...          2584   \n",
       "\n",
       "                                          categories  rating  \\\n",
       "0  [{'alias': 'pizza', 'title': 'Pizza'}, {'alias...     4.5   \n",
       "1             [{'alias': 'pizza', 'title': 'Pizza'}]     4.5   \n",
       "\n",
       "                                         coordinates        transactions  \\\n",
       "0  {'latitude': 40.72308755605564, 'longitude': -...  [pickup, delivery]   \n",
       "1  {'latitude': 40.70274718768062, 'longitude': -...          [delivery]   \n",
       "\n",
       "  price                                           location         phone  \\\n",
       "0     $  {'address1': '27 Prince St', 'address2': None,...  +12129664100   \n",
       "1    $$  {'address1': '19 Old Fulton St', 'address2': '...  +17185966700   \n",
       "\n",
       "    display_phone     distance  \n",
       "0  (212) 966-4100  1961.877142  \n",
       "1  (718) 596-6700   308.569844  "
      ]
     },
     "metadata": {},
     "output_type": "display_data"
    },
    {
     "data": {
      "text/html": [
       "<div>\n",
       "<style scoped>\n",
       "    .dataframe tbody tr th:only-of-type {\n",
       "        vertical-align: middle;\n",
       "    }\n",
       "\n",
       "    .dataframe tbody tr th {\n",
       "        vertical-align: top;\n",
       "    }\n",
       "\n",
       "    .dataframe thead th {\n",
       "        text-align: right;\n",
       "    }\n",
       "</style>\n",
       "<table border=\"1\" class=\"dataframe\">\n",
       "  <thead>\n",
       "    <tr style=\"text-align: right;\">\n",
       "      <th></th>\n",
       "      <th>id</th>\n",
       "      <th>alias</th>\n",
       "      <th>name</th>\n",
       "      <th>image_url</th>\n",
       "      <th>is_closed</th>\n",
       "      <th>url</th>\n",
       "      <th>review_count</th>\n",
       "      <th>categories</th>\n",
       "      <th>rating</th>\n",
       "      <th>coordinates</th>\n",
       "      <th>transactions</th>\n",
       "      <th>price</th>\n",
       "      <th>location</th>\n",
       "      <th>phone</th>\n",
       "      <th>display_phone</th>\n",
       "      <th>distance</th>\n",
       "    </tr>\n",
       "  </thead>\n",
       "  <tbody>\n",
       "    <tr>\n",
       "      <th>38</th>\n",
       "      <td>CiRj1B-gK5tRfbMkq3SBog</td>\n",
       "      <td>robertas-new-york-3</td>\n",
       "      <td>Roberta's</td>\n",
       "      <td>https://s3-media3.fl.yelpcdn.com/bphoto/__bI5t...</td>\n",
       "      <td>False</td>\n",
       "      <td>https://www.yelp.com/biz/robertas-new-york-3?a...</td>\n",
       "      <td>4</td>\n",
       "      <td>[{'alias': 'pizza', 'title': 'Pizza'}]</td>\n",
       "      <td>5.0</td>\n",
       "      <td>{'latitude': 40.71995520720623, 'longitude': -...</td>\n",
       "      <td>[pickup, delivery]</td>\n",
       "      <td>NaN</td>\n",
       "      <td>{'address1': '196 Stanton St', 'address2': '',...</td>\n",
       "      <td></td>\n",
       "      <td></td>\n",
       "      <td>1871.408970</td>\n",
       "    </tr>\n",
       "    <tr>\n",
       "      <th>39</th>\n",
       "      <td>6ECcDYsRgmfv0eKXk-c11Q</td>\n",
       "      <td>la-nonna-krispy-krust-pizza-brooklyn</td>\n",
       "      <td>La Nonna Krispy Krust Pizza</td>\n",
       "      <td>https://s3-media3.fl.yelpcdn.com/bphoto/fVNfYk...</td>\n",
       "      <td>False</td>\n",
       "      <td>https://www.yelp.com/biz/la-nonna-krispy-krust...</td>\n",
       "      <td>73</td>\n",
       "      <td>[{'alias': 'pizza', 'title': 'Pizza'}]</td>\n",
       "      <td>4.0</td>\n",
       "      <td>{'latitude': 40.717953, 'longitude': -73.9637027}</td>\n",
       "      <td>[pickup, delivery]</td>\n",
       "      <td>$$</td>\n",
       "      <td>{'address1': '175 Kent Ave', 'address2': None,...</td>\n",
       "      <td>+13473842100</td>\n",
       "      <td>(347) 384-2100</td>\n",
       "      <td>2929.556415</td>\n",
       "    </tr>\n",
       "  </tbody>\n",
       "</table>\n",
       "</div>"
      ],
      "text/plain": [
       "                        id                                 alias  \\\n",
       "38  CiRj1B-gK5tRfbMkq3SBog                   robertas-new-york-3   \n",
       "39  6ECcDYsRgmfv0eKXk-c11Q  la-nonna-krispy-krust-pizza-brooklyn   \n",
       "\n",
       "                           name  \\\n",
       "38                    Roberta's   \n",
       "39  La Nonna Krispy Krust Pizza   \n",
       "\n",
       "                                            image_url  is_closed  \\\n",
       "38  https://s3-media3.fl.yelpcdn.com/bphoto/__bI5t...      False   \n",
       "39  https://s3-media3.fl.yelpcdn.com/bphoto/fVNfYk...      False   \n",
       "\n",
       "                                                  url  review_count  \\\n",
       "38  https://www.yelp.com/biz/robertas-new-york-3?a...             4   \n",
       "39  https://www.yelp.com/biz/la-nonna-krispy-krust...            73   \n",
       "\n",
       "                                categories  rating  \\\n",
       "38  [{'alias': 'pizza', 'title': 'Pizza'}]     5.0   \n",
       "39  [{'alias': 'pizza', 'title': 'Pizza'}]     4.0   \n",
       "\n",
       "                                          coordinates        transactions  \\\n",
       "38  {'latitude': 40.71995520720623, 'longitude': -...  [pickup, delivery]   \n",
       "39  {'latitude': 40.717953, 'longitude': -73.9637027}  [pickup, delivery]   \n",
       "\n",
       "   price                                           location         phone  \\\n",
       "38   NaN  {'address1': '196 Stanton St', 'address2': '',...                 \n",
       "39    $$  {'address1': '175 Kent Ave', 'address2': None,...  +13473842100   \n",
       "\n",
       "     display_phone     distance  \n",
       "38                  1871.408970  \n",
       "39  (347) 384-2100  2929.556415  "
      ]
     },
     "metadata": {},
     "output_type": "display_data"
    }
   ],
   "source": [
    "# Concatenating the previous results together\n",
    "\n",
    "businesses = pd.concat([biz, biz_20],\n",
    "                      ignore_index=True)\n",
    "\n",
    "display(businesses.head(2), businesses.tail(2))"
   ]
  },
  {
   "cell_type": "code",
   "execution_count": null,
   "id": "089fb45f",
   "metadata": {},
   "outputs": [],
   "source": []
  }
 ],
 "metadata": {
  "kernelspec": {
   "display_name": "Python (dojo-env)",
   "language": "python",
   "name": "dojo-env"
  },
  "language_info": {
   "codemirror_mode": {
    "name": "ipython",
    "version": 3
   },
   "file_extension": ".py",
   "mimetype": "text/x-python",
   "name": "python",
   "nbconvert_exporter": "python",
   "pygments_lexer": "ipython3",
   "version": "3.9.15"
  },
  "toc": {
   "base_numbering": 1,
   "nav_menu": {},
   "number_sections": false,
   "sideBar": true,
   "skip_h1_title": false,
   "title_cell": "Table of Contents",
   "title_sidebar": "Contents",
   "toc_cell": false,
   "toc_position": {},
   "toc_section_display": true,
   "toc_window_display": false
  }
 },
 "nbformat": 4,
 "nbformat_minor": 5
}
