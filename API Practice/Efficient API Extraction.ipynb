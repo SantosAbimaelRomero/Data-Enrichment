{
 "cells": [
  {
   "cell_type": "markdown",
   "id": "12828223",
   "metadata": {},
   "source": [
    "# Safeguards to Data Extraction Workflow"
   ]
  },
  {
   "cell_type": "markdown",
   "id": "98ed6d39",
   "metadata": {},
   "source": [
    "## Imports"
   ]
  },
  {
   "cell_type": "code",
   "execution_count": 7,
   "id": "20e933f9",
   "metadata": {},
   "outputs": [
    {
     "name": "stdout",
     "output_type": "stream",
     "text": [
      "Requirement already satisfied: tqdm in c:\\users\\aveld\\anaconda3\\envs\\dojo-env\\lib\\site-packages (4.64.1)\n",
      "Requirement already satisfied: colorama in c:\\users\\aveld\\anaconda3\\envs\\dojo-env\\lib\\site-packages (from tqdm) (0.4.5)\n"
     ]
    }
   ],
   "source": [
    "!pip install tqdm"
   ]
  },
  {
   "cell_type": "code",
   "execution_count": 8,
   "id": "305d461a",
   "metadata": {},
   "outputs": [],
   "source": [
    "# Standard Imports\n",
    "import numpy as np\n",
    "import pandas as pd\n",
    "import matplotlib.pyplot as plt\n",
    "import seaborn as sns\n",
    "# Additional Imports\n",
    "import json, os, math, time\n",
    "from yelpapi import YelpAPI\n",
    "from tqdm.notebook import tqdm_notebook"
   ]
  },
  {
   "cell_type": "markdown",
   "id": "3f80c697",
   "metadata": {},
   "source": [
    "## API Credentials"
   ]
  },
  {
   "cell_type": "code",
   "execution_count": 10,
   "id": "77cfe0e4",
   "metadata": {},
   "outputs": [],
   "source": [
    "with open('/Users/aveld/secret/yelp_api.json') as f:\n",
    "    login = json.load(f)\n",
    "    \n",
    "yelp_api = YelpAPI(login['api-key'], timeout_s=5.0)"
   ]
  },
  {
   "cell_type": "markdown",
   "id": "a36dd8d1",
   "metadata": {},
   "source": [
    "## Defining API Searches"
   ]
  },
  {
   "cell_type": "markdown",
   "id": "d3ff7845",
   "metadata": {},
   "source": [
    "One way to write easier code for API is to set the parameters as variables and just call the variable when writing the API. Then simply update the variables for different searches.\n",
    "\n",
    "Makes your code easier to read and follow."
   ]
  },
  {
   "cell_type": "code",
   "execution_count": 11,
   "id": "5c78fbd2",
   "metadata": {},
   "outputs": [],
   "source": [
    "# Setting API call parameters\n",
    "LOCATION = \"NY, NY\"\n",
    "TERM = \"Pizza\""
   ]
  },
  {
   "cell_type": "markdown",
   "id": "7b0cc136",
   "metadata": {},
   "source": [
    "## Create \"Results In Progress\" JSON File"
   ]
  },
  {
   "cell_type": "markdown",
   "id": "74f00fb5",
   "metadata": {},
   "source": [
    "This refers to a JSON file that will be updated with all the results of every call you make since you typically need to make multiple calls to get all the data you need.\n",
    "\n",
    "Give these files a easily identifiable name to avoid confusion with future JSON files you make.\n",
    "\n",
    "**Only Make One if One Doesn't Already Exist**"
   ]
  },
  {
   "cell_type": "code",
   "execution_count": 28,
   "id": "d1024386",
   "metadata": {},
   "outputs": [
    {
     "data": {
      "text/plain": [
       "'Data/results_in_progress_NY_pizza.json'"
      ]
     },
     "execution_count": 28,
     "metadata": {},
     "output_type": "execute_result"
    }
   ],
   "source": [
    "# Specifying JSON_FILE filename (can include a folder)\n",
    "# include the search terms in the filename\n",
    "JSON_FILE = \"Data/results_in_progress_NY_pizza.json\"\n",
    "JSON_FILE"
   ]
  },
  {
   "cell_type": "markdown",
   "id": "c6993561",
   "metadata": {},
   "source": [
    "**Always check if a JSON file already exists so you don't overwrite your files**"
   ]
  },
  {
   "cell_type": "markdown",
   "id": "41e55d07",
   "metadata": {},
   "source": [
    "The following is a loop that helps us achieve this, change as necessary for future codes"
   ]
  },
  {
   "cell_type": "code",
   "execution_count": 13,
   "id": "cb1fd87a",
   "metadata": {},
   "outputs": [
    {
     "name": "stdout",
     "output_type": "stream",
     "text": [
      "[i] Data/results_in_progress_NY_pizza.json not found. Saving empty list to file.\n"
     ]
    }
   ],
   "source": [
    "## Check if JSON_FILE exists\n",
    "file_exists = os.path.isfile(JSON_FILE)\n",
    "\n",
    "## If it does not exist: \n",
    "if file_exists == False:\n",
    "    \n",
    "    ## CREATE ANY NEEDED FOLDERS\n",
    "    \n",
    "    # Get the Folder Name only\n",
    "    folder = os.path.dirname(JSON_FILE)\n",
    "    ## If JSON_FILE included a folder:\n",
    "    if len(folder)>0:\n",
    "        # create the folder\n",
    "        os.makedirs(folder,exist_ok=True)\n",
    "        \n",
    "        \n",
    "    ## INFORM USER AND SAVE EMPTY LIST\n",
    "    print(f'[i] {JSON_FILE} not found. Saving empty list to file.')\n",
    "    \n",
    "    \n",
    "    # save an empty list\n",
    "    with open(JSON_FILE,'w') as f:\n",
    "        json.dump([],f)  \n",
    "# If it exists, inform user\n",
    "else:\n",
    "    print(f\"[i] {JSON_FILE} already exists.\")"
   ]
  },
  {
   "cell_type": "markdown",
   "id": "3c505a7d",
   "metadata": {},
   "source": [
    "## Determine Contents of JSON File"
   ]
  },
  {
   "cell_type": "markdown",
   "id": "cd999d66",
   "metadata": {},
   "source": [
    "**This is if the JSON file already exists**\n",
    "\n",
    "Load the results file to determine the # of results we have previously retrieved. If you just created the file, you would expect it to be empty.\n",
    "\n",
    "We will use this as our offset parameter for our API call.\n",
    "\n",
    "Even if this is your first API call, and the number is 0, we want to define `n_results` based on the length of `previous_results`."
   ]
  },
  {
   "cell_type": "code",
   "execution_count": 14,
   "id": "1ab9b3c9",
   "metadata": {},
   "outputs": [
    {
     "name": "stdout",
     "output_type": "stream",
     "text": [
      "- 0 previous results found.\n"
     ]
    }
   ],
   "source": [
    "# Loading Previous Results\n",
    "with open(JSON_FILE, 'r') as f:\n",
    "    previous_results = json.load(f)\n",
    "    \n",
    "# Offset Based on Previous Results\n",
    "n_results = len(previous_results)\n",
    "print(f\"- {n_results} previous results found.\")"
   ]
  },
  {
   "cell_type": "markdown",
   "id": "b79faedd",
   "metadata": {},
   "source": [
    "## Determining Number of Pages"
   ]
  },
  {
   "cell_type": "markdown",
   "id": "e14f64c7",
   "metadata": {},
   "source": [
    "To know how many pages of data our API call is going to get us we need to first make an API call and see what we get."
   ]
  },
  {
   "cell_type": "code",
   "execution_count": 15,
   "id": "c98f04a7",
   "metadata": {},
   "outputs": [
    {
     "data": {
      "text/plain": [
       "dict_keys(['businesses', 'total', 'region'])"
      ]
     },
     "execution_count": 15,
     "metadata": {},
     "output_type": "execute_result"
    }
   ],
   "source": [
    "# use our yelp_api variable's search_query method to perform our API call\n",
    "results = yelp_api.search_query(location=LOCATION,\n",
    "                                term=TERM,\n",
    "                               offset=n_results)\n",
    "results.keys()"
   ]
  },
  {
   "cell_type": "code",
   "execution_count": 16,
   "id": "8224f8ce",
   "metadata": {},
   "outputs": [
    {
     "data": {
      "text/plain": [
       "12300"
      ]
     },
     "execution_count": 16,
     "metadata": {},
     "output_type": "execute_result"
    }
   ],
   "source": [
    "## How many results total?\n",
    "total_results = results['total']\n",
    "total_results"
   ]
  },
  {
   "cell_type": "code",
   "execution_count": 17,
   "id": "70d5c337",
   "metadata": {},
   "outputs": [
    {
     "data": {
      "text/plain": [
       "20"
      ]
     },
     "execution_count": 17,
     "metadata": {},
     "output_type": "execute_result"
    }
   ],
   "source": [
    "## How many results per page?\n",
    "results_per_page = len(results['businesses'])\n",
    "results_per_page"
   ]
  },
  {
   "cell_type": "markdown",
   "id": "3d7dac08",
   "metadata": {},
   "source": [
    "We got 12,300 total results and we get 20 results per API call.\n",
    "\n",
    "We can do the math on our own, using other apps or by hand, but we can also do the math in Python"
   ]
  },
  {
   "cell_type": "code",
   "execution_count": 20,
   "id": "943140cc",
   "metadata": {},
   "outputs": [
    {
     "data": {
      "text/plain": [
       "615"
      ]
     },
     "execution_count": 20,
     "metadata": {},
     "output_type": "execute_result"
    }
   ],
   "source": [
    "# This is why we imported 'math' earlier\n",
    "# Import math\n",
    "\n",
    "# Use math.ceil to round up for total pages.\n",
    "n_pages = math.ceil((total_results-n_results) / results_per_page)\n",
    "n_pages"
   ]
  },
  {
   "cell_type": "markdown",
   "id": "cc7d7189",
   "metadata": {},
   "source": [
    "This piece of code is necessary for the API call loop so we don't have to manually make 615 different API calls over and over"
   ]
  },
  {
   "cell_type": "markdown",
   "id": "75e49ca6",
   "metadata": {},
   "source": [
    "## Add first page of results to JSON_FILE"
   ]
  },
  {
   "cell_type": "markdown",
   "id": "69be72e6",
   "metadata": {},
   "source": [
    "We had to make the first API call in order to get the number of pages but given API limitations, we don't want to waste an API call on getting the same data again.\n",
    "\n",
    "Save the results from the first API call then simply start the loop from the second page instead of requesting the first page again."
   ]
  },
  {
   "cell_type": "code",
   "execution_count": 21,
   "id": "9a1c0140",
   "metadata": {},
   "outputs": [],
   "source": [
    "previous_results.extend(results['businesses'])\n",
    "\n",
    "with open(JSON_FILE, 'w') as f:\n",
    "    json.dump(previous_results, f)"
   ]
  },
  {
   "cell_type": "markdown",
   "id": "95f11463",
   "metadata": {},
   "source": [
    "## Setting up a Progress Bar"
   ]
  },
  {
   "cell_type": "markdown",
   "id": "a4af2cba",
   "metadata": {},
   "source": [
    "Setting up a progress bar allows to keep and eye on whether the data is running or not, otherwise we'd be left wondering if the kernel stalled or not"
   ]
  },
  {
   "cell_type": "code",
   "execution_count": 22,
   "id": "e538dfc1",
   "metadata": {},
   "outputs": [],
   "source": [
    "# I did this at the top but when running this you may need to \n",
    "# install the package first using the following code\n",
    "\n",
    "# !pip install tqdm"
   ]
  },
  {
   "cell_type": "code",
   "execution_count": 23,
   "id": "5eb6bb8b",
   "metadata": {},
   "outputs": [],
   "source": [
    "# I already imported it at the top but for reference\n",
    "# Make sure to import tqdm notebook and time\n",
    "\n",
    "# from tqdm.notebook import tqdm_notebook\n",
    "# import time"
   ]
  },
  {
   "cell_type": "code",
   "execution_count": 24,
   "id": "0c775d6e",
   "metadata": {},
   "outputs": [
    {
     "data": {
      "application/vnd.jupyter.widget-view+json": {
       "model_id": "e28e8bf14f4a4b9cb577404ed3f5805d",
       "version_major": 2,
       "version_minor": 0
      },
      "text/plain": [
       "  0%|          | 0/615 [00:00<?, ?it/s]"
      ]
     },
     "metadata": {},
     "output_type": "display_data"
    }
   ],
   "source": [
    "# Loop that creates a progress bar\n",
    "\n",
    "\n",
    "# For each page\n",
    "for i in tqdm_notebook(range(n_pages)):\n",
    "    \n",
    "    # Add a 200 ms pause while in progress\n",
    "    time.sleep(0.2)"
   ]
  },
  {
   "cell_type": "markdown",
   "id": "b5bbd1b3",
   "metadata": {},
   "source": [
    " If you run the above code, you'll see the progress bar in action, though nothing is happening it is simply looping through each page number"
   ]
  },
  {
   "cell_type": "markdown",
   "id": "d69a1479",
   "metadata": {},
   "source": [
    "## API call for loop part 1"
   ]
  },
  {
   "cell_type": "markdown",
   "id": "569e84c1",
   "metadata": {},
   "source": [
    "The following loop with iterate through each page and adding the results to our JSON file."
   ]
  },
  {
   "cell_type": "code",
   "execution_count": 25,
   "id": "8c468c42",
   "metadata": {},
   "outputs": [
    {
     "data": {
      "application/vnd.jupyter.widget-view+json": {
       "model_id": "820cb219333b4904a9928f463522dd71",
       "version_major": 2,
       "version_minor": 0
      },
      "text/plain": [
       "  0%|          | 0/615 [00:00<?, ?it/s]"
      ]
     },
     "metadata": {},
     "output_type": "display_data"
    },
    {
     "ename": "YelpAPIError",
     "evalue": "VALIDATION_ERROR: Too many results requested, limit+offset must be <= 1000.",
     "output_type": "error",
     "traceback": [
      "\u001b[1;31m---------------------------------------------------------------------------\u001b[0m",
      "\u001b[1;31mYelpAPIError\u001b[0m                              Traceback (most recent call last)",
      "Cell \u001b[1;32mIn [25], line 9\u001b[0m\n\u001b[0;32m      7\u001b[0m n_results \u001b[38;5;241m=\u001b[39m \u001b[38;5;28mlen\u001b[39m(previous_results)\n\u001b[0;32m      8\u001b[0m \u001b[38;5;66;03m## use n_results as the OFFSET \u001b[39;00m\n\u001b[1;32m----> 9\u001b[0m results \u001b[38;5;241m=\u001b[39m \u001b[43myelp_api\u001b[49m\u001b[38;5;241;43m.\u001b[39;49m\u001b[43msearch_query\u001b[49m\u001b[43m(\u001b[49m\u001b[43mlocation\u001b[49m\u001b[38;5;241;43m=\u001b[39;49m\u001b[43mLOCATION\u001b[49m\u001b[43m,\u001b[49m\n\u001b[0;32m     10\u001b[0m \u001b[43m                                \u001b[49m\u001b[43mterm\u001b[49m\u001b[38;5;241;43m=\u001b[39;49m\u001b[43mTERM\u001b[49m\u001b[43m,\u001b[49m\u001b[43m \u001b[49m\n\u001b[0;32m     11\u001b[0m \u001b[43m                                \u001b[49m\u001b[43moffset\u001b[49m\u001b[38;5;241;43m=\u001b[39;49m\u001b[43mn_results\u001b[49m\u001b[43m)\u001b[49m\n\u001b[0;32m     13\u001b[0m \u001b[38;5;66;03m## append new results and save to file\u001b[39;00m\n\u001b[0;32m     14\u001b[0m previous_results\u001b[38;5;241m.\u001b[39mextend(results[\u001b[38;5;124m'\u001b[39m\u001b[38;5;124mbusinesses\u001b[39m\u001b[38;5;124m'\u001b[39m])\n",
      "File \u001b[1;32m~\\anaconda3\\envs\\dojo-env\\lib\\site-packages\\yelpapi\\yelpapi.py:251\u001b[0m, in \u001b[0;36mYelpAPI.search_query\u001b[1;34m(self, **kwargs)\u001b[0m\n\u001b[0;32m    247\u001b[0m \u001b[38;5;28;01mif\u001b[39;00m \u001b[38;5;129;01mnot\u001b[39;00m kwargs\u001b[38;5;241m.\u001b[39mget(\u001b[38;5;124m'\u001b[39m\u001b[38;5;124mlocation\u001b[39m\u001b[38;5;124m'\u001b[39m) \u001b[38;5;129;01mand\u001b[39;00m (\u001b[38;5;129;01mnot\u001b[39;00m kwargs\u001b[38;5;241m.\u001b[39mget(\u001b[38;5;124m'\u001b[39m\u001b[38;5;124mlatitude\u001b[39m\u001b[38;5;124m'\u001b[39m) \u001b[38;5;129;01mor\u001b[39;00m \u001b[38;5;129;01mnot\u001b[39;00m kwargs\u001b[38;5;241m.\u001b[39mget(\u001b[38;5;124m'\u001b[39m\u001b[38;5;124mlongitude\u001b[39m\u001b[38;5;124m'\u001b[39m)):\n\u001b[0;32m    248\u001b[0m     \u001b[38;5;28;01mraise\u001b[39;00m \u001b[38;5;167;01mValueError\u001b[39;00m(\u001b[38;5;124m'\u001b[39m\u001b[38;5;124mA valid location (parameter \u001b[39m\u001b[38;5;124m\"\u001b[39m\u001b[38;5;124mlocation\u001b[39m\u001b[38;5;124m\"\u001b[39m\u001b[38;5;124m) or latitude/longitude combination \u001b[39m\u001b[38;5;124m'\u001b[39m\n\u001b[0;32m    249\u001b[0m                      \u001b[38;5;124m'\u001b[39m\u001b[38;5;124m(parameters \u001b[39m\u001b[38;5;124m\"\u001b[39m\u001b[38;5;124mlatitude\u001b[39m\u001b[38;5;124m\"\u001b[39m\u001b[38;5;124m and \u001b[39m\u001b[38;5;124m\"\u001b[39m\u001b[38;5;124mlongitude\u001b[39m\u001b[38;5;124m\"\u001b[39m\u001b[38;5;124m) must be provided.\u001b[39m\u001b[38;5;124m'\u001b[39m)\n\u001b[1;32m--> 251\u001b[0m \u001b[38;5;28;01mreturn\u001b[39;00m \u001b[38;5;28mself\u001b[39m\u001b[38;5;241m.\u001b[39m_query(SEARCH_API_URL, \u001b[38;5;241m*\u001b[39m\u001b[38;5;241m*\u001b[39mkwargs)\n",
      "File \u001b[1;32m~\\anaconda3\\envs\\dojo-env\\lib\\site-packages\\yelpapi\\yelpapi.py:299\u001b[0m, in \u001b[0;36mYelpAPI._query\u001b[1;34m(self, url, **kwargs)\u001b[0m\n\u001b[0;32m    295\u001b[0m \u001b[38;5;66;03m# Yelp can return one of many different API errors, so check for one of them.\u001b[39;00m\n\u001b[0;32m    296\u001b[0m \u001b[38;5;66;03m# The Yelp Fusion API does not yet have a complete list of errors, but this is on the TODO list; see\u001b[39;00m\n\u001b[0;32m    297\u001b[0m \u001b[38;5;66;03m# https://github.com/Yelp/yelp-fusion/issues/95 for more info.\u001b[39;00m\n\u001b[0;32m    298\u001b[0m \u001b[38;5;28;01mif\u001b[39;00m \u001b[38;5;124m'\u001b[39m\u001b[38;5;124merror\u001b[39m\u001b[38;5;124m'\u001b[39m \u001b[38;5;129;01min\u001b[39;00m response_json:\n\u001b[1;32m--> 299\u001b[0m     \u001b[38;5;28;01mraise\u001b[39;00m YelpAPI\u001b[38;5;241m.\u001b[39mYelpAPIError(\u001b[38;5;124m'\u001b[39m\u001b[38;5;132;01m{}\u001b[39;00m\u001b[38;5;124m: \u001b[39m\u001b[38;5;132;01m{}\u001b[39;00m\u001b[38;5;124m'\u001b[39m\u001b[38;5;241m.\u001b[39mformat(response_json[\u001b[38;5;124m'\u001b[39m\u001b[38;5;124merror\u001b[39m\u001b[38;5;124m'\u001b[39m][\u001b[38;5;124m'\u001b[39m\u001b[38;5;124mcode\u001b[39m\u001b[38;5;124m'\u001b[39m],\n\u001b[0;32m    300\u001b[0m                                                response_json[\u001b[38;5;124m'\u001b[39m\u001b[38;5;124merror\u001b[39m\u001b[38;5;124m'\u001b[39m][\u001b[38;5;124m'\u001b[39m\u001b[38;5;124mdescription\u001b[39m\u001b[38;5;124m'\u001b[39m]))\n\u001b[0;32m    302\u001b[0m \u001b[38;5;66;03m# we got a good response, so return\u001b[39;00m\n\u001b[0;32m    303\u001b[0m \u001b[38;5;28;01mreturn\u001b[39;00m response_json\n",
      "\u001b[1;31mYelpAPIError\u001b[0m: VALIDATION_ERROR: Too many results requested, limit+offset must be <= 1000."
     ]
    }
   ],
   "source": [
    "# It will loop for the length of the number of pages\n",
    "# we got earlier starting at 1\n",
    "# We add a 1 to the n_pages because python starts at 0 but we\n",
    "# want to start at 1 and end at the appropriate value\n",
    "for i in tqdm_notebook( range(1,n_pages+1)):\n",
    "    \n",
    "    ## Read in results in progress file and check the length\n",
    "    with open(JSON_FILE, 'r') as f:\n",
    "        previous_results = json.load(f)\n",
    "        \n",
    "    ## save number of results for to use as offset\n",
    "    n_results = len(previous_results)\n",
    "    \n",
    "    ## use n_results as the OFFSET \n",
    "    results = yelp_api.search_query(location=LOCATION,\n",
    "                                    term=TERM, \n",
    "                                    offset=n_results)\n",
    "    \n",
    "    ## append new results and save to file\n",
    "    previous_results.extend(results['businesses'])\n",
    "    \n",
    "    with open(JSON_FILE,'w') as f:\n",
    "        json.dump(previous_results,f)\n",
    "    \n",
    "    # add a 200ms pause to your progress bar and loop\n",
    "    time.sleep(.2)"
   ]
  },
  {
   "cell_type": "markdown",
   "id": "f4f8d089",
   "metadata": {},
   "source": [
    "The above error is due to API limitations which for us means we can only get up to 1,000 API calls according to the error.\n",
    "\n",
    "The way around this limitation is paying for premium access to the API we are pulling from. Depending on circumstance this may be necessary, if not we can simply avoid this error by adding to the loop to stop at 1,000 results.\n",
    "\n",
    "Unfortunately, there is no way to adjust our calls to skip those first 1,000. So we can only ever get the same first 1,000 results."
   ]
  },
  {
   "cell_type": "markdown",
   "id": "17ea029a",
   "metadata": {},
   "source": [
    "## Deleting Previous Results"
   ]
  },
  {
   "cell_type": "markdown",
   "id": "0d7eb053",
   "metadata": {},
   "source": [
    "**Manual Way**\n",
    "___\n",
    "We can simply delete the file.\n",
    "___\n",
    "\n",
    "\n",
    "**Programmatic Way**\n",
    "___\n",
    "Use the `os` module to delete the file."
   ]
  },
  {
   "cell_type": "code",
   "execution_count": 29,
   "id": "5351266e",
   "metadata": {
    "scrolled": true
   },
   "outputs": [
    {
     "ename": "FileNotFoundError",
     "evalue": "[WinError 2] The system cannot find the file specified: 'Data/results_in_progress_NY_pizza.json'",
     "output_type": "error",
     "traceback": [
      "\u001b[1;31m---------------------------------------------------------------------------\u001b[0m",
      "\u001b[1;31mFileNotFoundError\u001b[0m                         Traceback (most recent call last)",
      "Cell \u001b[1;32mIn [29], line 4\u001b[0m\n\u001b[0;32m      1\u001b[0m \u001b[38;5;66;03m# Programmatic Way\u001b[39;00m\n\u001b[0;32m      2\u001b[0m \n\u001b[0;32m      3\u001b[0m \u001b[38;5;66;03m# This will remove the file\u001b[39;00m\n\u001b[1;32m----> 4\u001b[0m \u001b[43mos\u001b[49m\u001b[38;5;241;43m.\u001b[39;49m\u001b[43mremove\u001b[49m\u001b[43m(\u001b[49m\u001b[43mJSON_FILE\u001b[49m\u001b[43m)\u001b[49m\n\u001b[0;32m      6\u001b[0m \u001b[38;5;66;03m# This is to check if file was removed\u001b[39;00m\n\u001b[0;32m      7\u001b[0m \u001b[38;5;66;03m# It should return False\u001b[39;00m\n\u001b[0;32m      8\u001b[0m os\u001b[38;5;241m.\u001b[39mpath\u001b[38;5;241m.\u001b[39misfile(JSON_FILE)\n",
      "\u001b[1;31mFileNotFoundError\u001b[0m: [WinError 2] The system cannot find the file specified: 'Data/results_in_progress_NY_pizza.json'"
     ]
    }
   ],
   "source": [
    "# Programmatic Way\n",
    "\n",
    "# This will remove the file\n",
    "# Will error out if there is no such file\n",
    "os.remove(JSON_FILE)\n",
    "\n",
    "# This is to check if file was removed\n",
    "# It should return False\n",
    "os.path.isfile(JSON_FILE)"
   ]
  },
  {
   "cell_type": "markdown",
   "id": "bde9daca",
   "metadata": {},
   "source": [
    "## JSON file function"
   ]
  },
  {
   "cell_type": "markdown",
   "id": "c7f54ced",
   "metadata": {},
   "source": [
    "As programmers, making things into functions and classes to reduce clutter in our code is essential. So why not make the creation and deletion of our JSON files into a function?"
   ]
  },
  {
   "cell_type": "code",
   "execution_count": 30,
   "id": "fccef9b4",
   "metadata": {},
   "outputs": [],
   "source": [
    "def create_json_file(JSON_FILE,  delete_if_exists=False):\n",
    "    \n",
    "    ## Check if JSON_FILE exists\n",
    "    file_exists = os.path.isfile(JSON_FILE)\n",
    "    \n",
    "    ## If it DOES exist:\n",
    "    if file_exists == True:\n",
    "        \n",
    "        ## Check if user wants to delete JSON file\n",
    "        if delete_if_exists==True:\n",
    "            \n",
    "            print(f\"[!] {JSON_FILE} already exists. Deleting previous file...\")\n",
    "            \n",
    "            ## delete file and confirm it no longer exits.\n",
    "            os.remove(JSON_FILE)\n",
    "            \n",
    "            ## Recursive call to function after old file deleted\n",
    "            create_json_file(JSON_FILE,delete_if_exists=False)\n",
    "        else:\n",
    "            print(f\"[i] {JSON_FILE} already exists.\")            \n",
    "            \n",
    "            \n",
    "    ## If it does NOT exist:\n",
    "    else:\n",
    "        \n",
    "        ## INFORM USER AND SAVE EMPTY LIST\n",
    "        print(f\"[i] {JSON_FILE} not found. Saving empty list to new file.\")\n",
    "        \n",
    "        ## CREATE ANY NEEDED FOLDERS\n",
    "        # Get the Folder Name only\n",
    "        folder = os.path.dirname(JSON_FILE)\n",
    "        \n",
    "        ## If JSON_FILE included a folder:\n",
    "        if len(folder)>0:\n",
    "            # create the folder\n",
    "            os.makedirs(folder,exist_ok=True)\n",
    "        ## Save empty list to start the json file\n",
    "        with open(JSON_FILE,'w') as f:\n",
    "            json.dump([],f)  "
   ]
  },
  {
   "cell_type": "markdown",
   "id": "155b2f6b",
   "metadata": {},
   "source": [
    "Now that we have our new function, we can use it with delete_if_exists=True to delete our previous results and start over. We will also need to repeat the steps to recreate our n-results, total_results, results_per_page, and n_pages variables that we created before our first attempted loop."
   ]
  },
  {
   "cell_type": "code",
   "execution_count": 31,
   "id": "035da085",
   "metadata": {},
   "outputs": [
    {
     "name": "stdout",
     "output_type": "stream",
     "text": [
      "[i] Data/results_in_progress_NY_pizza.json not found. Saving empty list to new file.\n",
      "- 0 previous results found.\n"
     ]
    },
    {
     "data": {
      "text/plain": [
       "615"
      ]
     },
     "execution_count": 31,
     "metadata": {},
     "output_type": "execute_result"
    }
   ],
   "source": [
    "## Create a new empty json file (delete the previous if it exists)\n",
    "create_json_file(JSON_FILE, delete_if_exists=True)\n",
    "## Load previous results and use len of results for offset\n",
    "with open(JSON_FILE,'r') as f:\n",
    "    previous_results = json.load(f)\n",
    "    \n",
    "## set offset based on previous results\n",
    "n_results = len(previous_results)\n",
    "print(f'- {n_results} previous results found.')\n",
    "\n",
    "# use our yelp_api variable's search_query method to perform our API call\n",
    "results = yelp_api.search_query(location=LOCATION,\n",
    "                                term=TERM,\n",
    "                               offset=n_results)\n",
    "\n",
    "## How many results total?\n",
    "total_results = results['total']\n",
    "\n",
    "## How many did we get the details for?\n",
    "results_per_page = len(results['businesses'])\n",
    "\n",
    "# Use math.ceil to round up for the total number of pages of results.\n",
    "n_pages = math.ceil((results['total']-n_results)/ results_per_page)\n",
    "n_pages"
   ]
  },
  {
   "cell_type": "code",
   "execution_count": 32,
   "id": "1010695e",
   "metadata": {},
   "outputs": [
    {
     "data": {
      "application/vnd.jupyter.widget-view+json": {
       "model_id": "de8c4e91f6ac4e66be687d9ca07d6efd",
       "version_major": 2,
       "version_minor": 0
      },
      "text/plain": [
       "  0%|          | 0/615 [00:00<?, ?it/s]"
      ]
     },
     "metadata": {},
     "output_type": "display_data"
    },
    {
     "name": "stdout",
     "output_type": "stream",
     "text": [
      "Exceeded 1000 api calls. Stopping loop.\n"
     ]
    }
   ],
   "source": [
    "# Rerun our loop to iterate through each page of results\n",
    "for i in tqdm_notebook( range(1,n_pages+1)):\n",
    "    \n",
    "    ## Read in results in progress file and check the length\n",
    "    with open(JSON_FILE, 'r') as f:\n",
    "        previous_results = json.load(f)\n",
    "    ## save number of results for to use as offset\n",
    "    n_results = len(previous_results)\n",
    "    \n",
    "    # Main difference from first attempt\n",
    "    # The code will stop running once it exceeds 1,000\n",
    "    if (n_results + results_per_page) > 1000:\n",
    "        print('Exceeded 1000 api calls. Stopping loop.')\n",
    "        break\n",
    "    \n",
    "    ## use n_results as the OFFSET \n",
    "    results = yelp_api.search_query(location=LOCATION,\n",
    "                                    term=TERM, \n",
    "                                    offset=n_results)\n",
    "    \n",
    "    \n",
    "    \n",
    "    ## append new results and save to file\n",
    "    previous_results.extend(results['businesses'])\n",
    "    \n",
    "    # display(previous_results)\n",
    "    with open(JSON_FILE,'w') as f:\n",
    "        json.dump(previous_results,f)\n",
    "    \n",
    "    time.sleep(.2)"
   ]
  },
  {
   "cell_type": "markdown",
   "id": "924e4cee",
   "metadata": {},
   "source": [
    "## Converting JSON file to pandas.DataFrame"
   ]
  },
  {
   "cell_type": "code",
   "execution_count": 33,
   "id": "754b4860",
   "metadata": {
    "scrolled": true
   },
   "outputs": [
    {
     "data": {
      "text/html": [
       "<div>\n",
       "<style scoped>\n",
       "    .dataframe tbody tr th:only-of-type {\n",
       "        vertical-align: middle;\n",
       "    }\n",
       "\n",
       "    .dataframe tbody tr th {\n",
       "        vertical-align: top;\n",
       "    }\n",
       "\n",
       "    .dataframe thead th {\n",
       "        text-align: right;\n",
       "    }\n",
       "</style>\n",
       "<table border=\"1\" class=\"dataframe\">\n",
       "  <thead>\n",
       "    <tr style=\"text-align: right;\">\n",
       "      <th></th>\n",
       "      <th>id</th>\n",
       "      <th>alias</th>\n",
       "      <th>name</th>\n",
       "      <th>image_url</th>\n",
       "      <th>is_closed</th>\n",
       "      <th>url</th>\n",
       "      <th>review_count</th>\n",
       "      <th>categories</th>\n",
       "      <th>rating</th>\n",
       "      <th>coordinates</th>\n",
       "      <th>transactions</th>\n",
       "      <th>price</th>\n",
       "      <th>location</th>\n",
       "      <th>phone</th>\n",
       "      <th>display_phone</th>\n",
       "      <th>distance</th>\n",
       "    </tr>\n",
       "  </thead>\n",
       "  <tbody>\n",
       "    <tr>\n",
       "      <th>0</th>\n",
       "      <td>zj8Lq1T8KIC5zwFief15jg</td>\n",
       "      <td>prince-street-pizza-new-york-2</td>\n",
       "      <td>Prince Street Pizza</td>\n",
       "      <td>https://s3-media2.fl.yelpcdn.com/bphoto/I4gm7i...</td>\n",
       "      <td>False</td>\n",
       "      <td>https://www.yelp.com/biz/prince-street-pizza-n...</td>\n",
       "      <td>4663</td>\n",
       "      <td>[{'alias': 'pizza', 'title': 'Pizza'}, {'alias...</td>\n",
       "      <td>4.5</td>\n",
       "      <td>{'latitude': 40.72308755605564, 'longitude': -...</td>\n",
       "      <td>[delivery, pickup]</td>\n",
       "      <td>$</td>\n",
       "      <td>{'address1': '27 Prince St', 'address2': None,...</td>\n",
       "      <td>+12129664100</td>\n",
       "      <td>(212) 966-4100</td>\n",
       "      <td>1961.877142</td>\n",
       "    </tr>\n",
       "    <tr>\n",
       "      <th>1</th>\n",
       "      <td>ysqgdbSrezXgVwER2kQWKA</td>\n",
       "      <td>julianas-brooklyn-3</td>\n",
       "      <td>Juliana's</td>\n",
       "      <td>https://s3-media2.fl.yelpcdn.com/bphoto/NVoLFl...</td>\n",
       "      <td>False</td>\n",
       "      <td>https://www.yelp.com/biz/julianas-brooklyn-3?a...</td>\n",
       "      <td>2585</td>\n",
       "      <td>[{'alias': 'pizza', 'title': 'Pizza'}]</td>\n",
       "      <td>4.5</td>\n",
       "      <td>{'latitude': 40.70274718768062, 'longitude': -...</td>\n",
       "      <td>[delivery]</td>\n",
       "      <td>$$</td>\n",
       "      <td>{'address1': '19 Old Fulton St', 'address2': '...</td>\n",
       "      <td>+17185966700</td>\n",
       "      <td>(718) 596-6700</td>\n",
       "      <td>308.569844</td>\n",
       "    </tr>\n",
       "    <tr>\n",
       "      <th>2</th>\n",
       "      <td>WG639VkTjmK5dzydd1BBJA</td>\n",
       "      <td>rubirosa-new-york-2</td>\n",
       "      <td>Rubirosa</td>\n",
       "      <td>https://s3-media4.fl.yelpcdn.com/bphoto/LuSzR8...</td>\n",
       "      <td>False</td>\n",
       "      <td>https://www.yelp.com/biz/rubirosa-new-york-2?a...</td>\n",
       "      <td>2849</td>\n",
       "      <td>[{'alias': 'italian', 'title': 'Italian'}, {'a...</td>\n",
       "      <td>4.5</td>\n",
       "      <td>{'latitude': 40.722766, 'longitude': -73.996233}</td>\n",
       "      <td>[pickup]</td>\n",
       "      <td>$$</td>\n",
       "      <td>{'address1': '235 Mulberry St', 'address2': ''...</td>\n",
       "      <td>+12129650500</td>\n",
       "      <td>(212) 965-0500</td>\n",
       "      <td>1932.946770</td>\n",
       "    </tr>\n",
       "    <tr>\n",
       "      <th>3</th>\n",
       "      <td>v1DHGRNCH9247WLYoaoA9A</td>\n",
       "      <td>l-industrie-pizzeria-brooklyn</td>\n",
       "      <td>L'industrie Pizzeria</td>\n",
       "      <td>https://s3-media2.fl.yelpcdn.com/bphoto/SkMxUE...</td>\n",
       "      <td>False</td>\n",
       "      <td>https://www.yelp.com/biz/l-industrie-pizzeria-...</td>\n",
       "      <td>838</td>\n",
       "      <td>[{'alias': 'pizza', 'title': 'Pizza'}]</td>\n",
       "      <td>4.5</td>\n",
       "      <td>{'latitude': 40.71162, 'longitude': -73.95783}</td>\n",
       "      <td>[delivery]</td>\n",
       "      <td>$</td>\n",
       "      <td>{'address1': '254 S 2nd St', 'address2': '', '...</td>\n",
       "      <td>+17185990002</td>\n",
       "      <td>(718) 599-0002</td>\n",
       "      <td>3145.016041</td>\n",
       "    </tr>\n",
       "    <tr>\n",
       "      <th>4</th>\n",
       "      <td>WIhm0W9197f_rRtDziq5qQ</td>\n",
       "      <td>lombardis-pizza-new-york-4</td>\n",
       "      <td>Lombardi's Pizza</td>\n",
       "      <td>https://s3-media1.fl.yelpcdn.com/bphoto/UZ6V_h...</td>\n",
       "      <td>False</td>\n",
       "      <td>https://www.yelp.com/biz/lombardis-pizza-new-y...</td>\n",
       "      <td>6494</td>\n",
       "      <td>[{'alias': 'pizza', 'title': 'Pizza'}]</td>\n",
       "      <td>4.0</td>\n",
       "      <td>{'latitude': 40.7215934960083, 'longitude': -7...</td>\n",
       "      <td>[delivery, pickup]</td>\n",
       "      <td>$$</td>\n",
       "      <td>{'address1': '32 Spring St', 'address2': '', '...</td>\n",
       "      <td>+12129417994</td>\n",
       "      <td>(212) 941-7994</td>\n",
       "      <td>1798.995978</td>\n",
       "    </tr>\n",
       "  </tbody>\n",
       "</table>\n",
       "</div>"
      ],
      "text/plain": [
       "                       id                           alias  \\\n",
       "0  zj8Lq1T8KIC5zwFief15jg  prince-street-pizza-new-york-2   \n",
       "1  ysqgdbSrezXgVwER2kQWKA             julianas-brooklyn-3   \n",
       "2  WG639VkTjmK5dzydd1BBJA             rubirosa-new-york-2   \n",
       "3  v1DHGRNCH9247WLYoaoA9A   l-industrie-pizzeria-brooklyn   \n",
       "4  WIhm0W9197f_rRtDziq5qQ      lombardis-pizza-new-york-4   \n",
       "\n",
       "                   name                                          image_url  \\\n",
       "0   Prince Street Pizza  https://s3-media2.fl.yelpcdn.com/bphoto/I4gm7i...   \n",
       "1             Juliana's  https://s3-media2.fl.yelpcdn.com/bphoto/NVoLFl...   \n",
       "2              Rubirosa  https://s3-media4.fl.yelpcdn.com/bphoto/LuSzR8...   \n",
       "3  L'industrie Pizzeria  https://s3-media2.fl.yelpcdn.com/bphoto/SkMxUE...   \n",
       "4      Lombardi's Pizza  https://s3-media1.fl.yelpcdn.com/bphoto/UZ6V_h...   \n",
       "\n",
       "   is_closed                                                url  review_count  \\\n",
       "0      False  https://www.yelp.com/biz/prince-street-pizza-n...          4663   \n",
       "1      False  https://www.yelp.com/biz/julianas-brooklyn-3?a...          2585   \n",
       "2      False  https://www.yelp.com/biz/rubirosa-new-york-2?a...          2849   \n",
       "3      False  https://www.yelp.com/biz/l-industrie-pizzeria-...           838   \n",
       "4      False  https://www.yelp.com/biz/lombardis-pizza-new-y...          6494   \n",
       "\n",
       "                                          categories  rating  \\\n",
       "0  [{'alias': 'pizza', 'title': 'Pizza'}, {'alias...     4.5   \n",
       "1             [{'alias': 'pizza', 'title': 'Pizza'}]     4.5   \n",
       "2  [{'alias': 'italian', 'title': 'Italian'}, {'a...     4.5   \n",
       "3             [{'alias': 'pizza', 'title': 'Pizza'}]     4.5   \n",
       "4             [{'alias': 'pizza', 'title': 'Pizza'}]     4.0   \n",
       "\n",
       "                                         coordinates        transactions  \\\n",
       "0  {'latitude': 40.72308755605564, 'longitude': -...  [delivery, pickup]   \n",
       "1  {'latitude': 40.70274718768062, 'longitude': -...          [delivery]   \n",
       "2   {'latitude': 40.722766, 'longitude': -73.996233}            [pickup]   \n",
       "3     {'latitude': 40.71162, 'longitude': -73.95783}          [delivery]   \n",
       "4  {'latitude': 40.7215934960083, 'longitude': -7...  [delivery, pickup]   \n",
       "\n",
       "  price                                           location         phone  \\\n",
       "0     $  {'address1': '27 Prince St', 'address2': None,...  +12129664100   \n",
       "1    $$  {'address1': '19 Old Fulton St', 'address2': '...  +17185966700   \n",
       "2    $$  {'address1': '235 Mulberry St', 'address2': ''...  +12129650500   \n",
       "3     $  {'address1': '254 S 2nd St', 'address2': '', '...  +17185990002   \n",
       "4    $$  {'address1': '32 Spring St', 'address2': '', '...  +12129417994   \n",
       "\n",
       "    display_phone     distance  \n",
       "0  (212) 966-4100  1961.877142  \n",
       "1  (718) 596-6700   308.569844  \n",
       "2  (212) 965-0500  1932.946770  \n",
       "3  (718) 599-0002  3145.016041  \n",
       "4  (212) 941-7994  1798.995978  "
      ]
     },
     "metadata": {},
     "output_type": "display_data"
    },
    {
     "data": {
      "text/html": [
       "<div>\n",
       "<style scoped>\n",
       "    .dataframe tbody tr th:only-of-type {\n",
       "        vertical-align: middle;\n",
       "    }\n",
       "\n",
       "    .dataframe tbody tr th {\n",
       "        vertical-align: top;\n",
       "    }\n",
       "\n",
       "    .dataframe thead th {\n",
       "        text-align: right;\n",
       "    }\n",
       "</style>\n",
       "<table border=\"1\" class=\"dataframe\">\n",
       "  <thead>\n",
       "    <tr style=\"text-align: right;\">\n",
       "      <th></th>\n",
       "      <th>id</th>\n",
       "      <th>alias</th>\n",
       "      <th>name</th>\n",
       "      <th>image_url</th>\n",
       "      <th>is_closed</th>\n",
       "      <th>url</th>\n",
       "      <th>review_count</th>\n",
       "      <th>categories</th>\n",
       "      <th>rating</th>\n",
       "      <th>coordinates</th>\n",
       "      <th>transactions</th>\n",
       "      <th>price</th>\n",
       "      <th>location</th>\n",
       "      <th>phone</th>\n",
       "      <th>display_phone</th>\n",
       "      <th>distance</th>\n",
       "    </tr>\n",
       "  </thead>\n",
       "  <tbody>\n",
       "    <tr>\n",
       "      <th>995</th>\n",
       "      <td>vQ7ptEDLKCfh0dpsqc6P5w</td>\n",
       "      <td>and-pizza-jersey-city-jersey-city</td>\n",
       "      <td>&amp;pizza - Jersey City</td>\n",
       "      <td>https://s3-media1.fl.yelpcdn.com/bphoto/iGOyOg...</td>\n",
       "      <td>False</td>\n",
       "      <td>https://www.yelp.com/biz/and-pizza-jersey-city...</td>\n",
       "      <td>100</td>\n",
       "      <td>[{'alias': 'pizza', 'title': 'Pizza'}, {'alias...</td>\n",
       "      <td>4.0</td>\n",
       "      <td>{'latitude': 40.7169329340846, 'longitude': -7...</td>\n",
       "      <td>[delivery, pickup]</td>\n",
       "      <td>NaN</td>\n",
       "      <td>{'address1': '30 Montgomery St', 'address2': '...</td>\n",
       "      <td>+12023355991</td>\n",
       "      <td>(202) 335-5991</td>\n",
       "      <td>3684.211520</td>\n",
       "    </tr>\n",
       "    <tr>\n",
       "      <th>996</th>\n",
       "      <td>T8IXYh6TF70SMBAcL3cChw</td>\n",
       "      <td>xtra-cheese-pizza-flushing-2</td>\n",
       "      <td>Xtra Cheese Pizza</td>\n",
       "      <td>https://s3-media2.fl.yelpcdn.com/bphoto/MjsXv8...</td>\n",
       "      <td>False</td>\n",
       "      <td>https://www.yelp.com/biz/xtra-cheese-pizza-flu...</td>\n",
       "      <td>131</td>\n",
       "      <td>[{'alias': 'pizza', 'title': 'Pizza'}]</td>\n",
       "      <td>4.5</td>\n",
       "      <td>{'latitude': 40.7651362, 'longitude': -73.8182...</td>\n",
       "      <td>[delivery]</td>\n",
       "      <td>$</td>\n",
       "      <td>{'address1': '14720 Northern Blvd', 'address2'...</td>\n",
       "      <td>+17189613122</td>\n",
       "      <td>(718) 961-3122</td>\n",
       "      <td>16230.721800</td>\n",
       "    </tr>\n",
       "    <tr>\n",
       "      <th>997</th>\n",
       "      <td>QuoKMoQY_0iSW_zxh9DuGA</td>\n",
       "      <td>romeos-pizza-fresh-meadows</td>\n",
       "      <td>Romeo's Pizza</td>\n",
       "      <td>https://s3-media1.fl.yelpcdn.com/bphoto/wv8quv...</td>\n",
       "      <td>False</td>\n",
       "      <td>https://www.yelp.com/biz/romeos-pizza-fresh-me...</td>\n",
       "      <td>160</td>\n",
       "      <td>[{'alias': 'pizza', 'title': 'Pizza'}]</td>\n",
       "      <td>4.5</td>\n",
       "      <td>{'latitude': 40.7291074, 'longitude': -73.7808...</td>\n",
       "      <td>[delivery]</td>\n",
       "      <td>$</td>\n",
       "      <td>{'address1': '18808 Union Tpke', 'address2': '...</td>\n",
       "      <td>+17184544223</td>\n",
       "      <td>(718) 454-4223</td>\n",
       "      <td>18191.389235</td>\n",
       "    </tr>\n",
       "    <tr>\n",
       "      <th>998</th>\n",
       "      <td>r3kTaZJ628-xzQpUBQbUcw</td>\n",
       "      <td>mammas-famous-pizza-new-york-4</td>\n",
       "      <td>Mammas Famous Pizza</td>\n",
       "      <td>https://s3-media1.fl.yelpcdn.com/bphoto/YgpBCI...</td>\n",
       "      <td>False</td>\n",
       "      <td>https://www.yelp.com/biz/mammas-famous-pizza-n...</td>\n",
       "      <td>63</td>\n",
       "      <td>[{'alias': 'pizza', 'title': 'Pizza'}, {'alias...</td>\n",
       "      <td>2.5</td>\n",
       "      <td>{'latitude': 40.7880242, 'longitude': -73.977052}</td>\n",
       "      <td>[delivery, pickup]</td>\n",
       "      <td>$</td>\n",
       "      <td>{'address1': '2345 Broadway', 'address2': '', ...</td>\n",
       "      <td>+12123628612</td>\n",
       "      <td>(212) 362-8612</td>\n",
       "      <td>9302.727188</td>\n",
       "    </tr>\n",
       "    <tr>\n",
       "      <th>999</th>\n",
       "      <td>nTt5cLJVcmBdM640izladw</td>\n",
       "      <td>carmentas-italian-specialties-brooklyn-2</td>\n",
       "      <td>Carmentas Italian Specialties</td>\n",
       "      <td>https://s3-media1.fl.yelpcdn.com/bphoto/faJo4e...</td>\n",
       "      <td>False</td>\n",
       "      <td>https://www.yelp.com/biz/carmentas-italian-spe...</td>\n",
       "      <td>137</td>\n",
       "      <td>[{'alias': 'italian', 'title': 'Italian'}, {'a...</td>\n",
       "      <td>4.5</td>\n",
       "      <td>{'latitude': 40.70114, 'longitude': -73.92677}</td>\n",
       "      <td>[delivery, pickup]</td>\n",
       "      <td>$$</td>\n",
       "      <td>{'address1': '50 Starr St', 'address2': None, ...</td>\n",
       "      <td>+17186765003</td>\n",
       "      <td>(718) 676-5003</td>\n",
       "      <td>5715.273411</td>\n",
       "    </tr>\n",
       "  </tbody>\n",
       "</table>\n",
       "</div>"
      ],
      "text/plain": [
       "                         id                                     alias  \\\n",
       "995  vQ7ptEDLKCfh0dpsqc6P5w         and-pizza-jersey-city-jersey-city   \n",
       "996  T8IXYh6TF70SMBAcL3cChw              xtra-cheese-pizza-flushing-2   \n",
       "997  QuoKMoQY_0iSW_zxh9DuGA                romeos-pizza-fresh-meadows   \n",
       "998  r3kTaZJ628-xzQpUBQbUcw            mammas-famous-pizza-new-york-4   \n",
       "999  nTt5cLJVcmBdM640izladw  carmentas-italian-specialties-brooklyn-2   \n",
       "\n",
       "                              name  \\\n",
       "995           &pizza - Jersey City   \n",
       "996              Xtra Cheese Pizza   \n",
       "997                  Romeo's Pizza   \n",
       "998            Mammas Famous Pizza   \n",
       "999  Carmentas Italian Specialties   \n",
       "\n",
       "                                             image_url  is_closed  \\\n",
       "995  https://s3-media1.fl.yelpcdn.com/bphoto/iGOyOg...      False   \n",
       "996  https://s3-media2.fl.yelpcdn.com/bphoto/MjsXv8...      False   \n",
       "997  https://s3-media1.fl.yelpcdn.com/bphoto/wv8quv...      False   \n",
       "998  https://s3-media1.fl.yelpcdn.com/bphoto/YgpBCI...      False   \n",
       "999  https://s3-media1.fl.yelpcdn.com/bphoto/faJo4e...      False   \n",
       "\n",
       "                                                   url  review_count  \\\n",
       "995  https://www.yelp.com/biz/and-pizza-jersey-city...           100   \n",
       "996  https://www.yelp.com/biz/xtra-cheese-pizza-flu...           131   \n",
       "997  https://www.yelp.com/biz/romeos-pizza-fresh-me...           160   \n",
       "998  https://www.yelp.com/biz/mammas-famous-pizza-n...            63   \n",
       "999  https://www.yelp.com/biz/carmentas-italian-spe...           137   \n",
       "\n",
       "                                            categories  rating  \\\n",
       "995  [{'alias': 'pizza', 'title': 'Pizza'}, {'alias...     4.0   \n",
       "996             [{'alias': 'pizza', 'title': 'Pizza'}]     4.5   \n",
       "997             [{'alias': 'pizza', 'title': 'Pizza'}]     4.5   \n",
       "998  [{'alias': 'pizza', 'title': 'Pizza'}, {'alias...     2.5   \n",
       "999  [{'alias': 'italian', 'title': 'Italian'}, {'a...     4.5   \n",
       "\n",
       "                                           coordinates        transactions  \\\n",
       "995  {'latitude': 40.7169329340846, 'longitude': -7...  [delivery, pickup]   \n",
       "996  {'latitude': 40.7651362, 'longitude': -73.8182...          [delivery]   \n",
       "997  {'latitude': 40.7291074, 'longitude': -73.7808...          [delivery]   \n",
       "998  {'latitude': 40.7880242, 'longitude': -73.977052}  [delivery, pickup]   \n",
       "999     {'latitude': 40.70114, 'longitude': -73.92677}  [delivery, pickup]   \n",
       "\n",
       "    price                                           location         phone  \\\n",
       "995   NaN  {'address1': '30 Montgomery St', 'address2': '...  +12023355991   \n",
       "996     $  {'address1': '14720 Northern Blvd', 'address2'...  +17189613122   \n",
       "997     $  {'address1': '18808 Union Tpke', 'address2': '...  +17184544223   \n",
       "998     $  {'address1': '2345 Broadway', 'address2': '', ...  +12123628612   \n",
       "999    $$  {'address1': '50 Starr St', 'address2': None, ...  +17186765003   \n",
       "\n",
       "      display_phone      distance  \n",
       "995  (202) 335-5991   3684.211520  \n",
       "996  (718) 961-3122  16230.721800  \n",
       "997  (718) 454-4223  18191.389235  \n",
       "998  (212) 362-8612   9302.727188  \n",
       "999  (718) 676-5003   5715.273411  "
      ]
     },
     "metadata": {},
     "output_type": "display_data"
    }
   ],
   "source": [
    "# load final results\n",
    "\n",
    "# This creates the DataFrame\n",
    "final_df = pd.read_json(JSON_FILE)\n",
    "\n",
    "# This displays results\n",
    "display(final_df.head(), final_df.tail())"
   ]
  },
  {
   "cell_type": "markdown",
   "id": "8bfcf553",
   "metadata": {},
   "source": [
    "Always check and clean data"
   ]
  },
  {
   "cell_type": "code",
   "execution_count": 34,
   "id": "09d22523",
   "metadata": {},
   "outputs": [
    {
     "ename": "TypeError",
     "evalue": "unhashable type: 'list'",
     "output_type": "error",
     "traceback": [
      "\u001b[1;31m---------------------------------------------------------------------------\u001b[0m",
      "\u001b[1;31mTypeError\u001b[0m                                 Traceback (most recent call last)",
      "Cell \u001b[1;32mIn [34], line 2\u001b[0m\n\u001b[0;32m      1\u001b[0m \u001b[38;5;66;03m# check for duplicate results\u001b[39;00m\n\u001b[1;32m----> 2\u001b[0m \u001b[43mfinal_df\u001b[49m\u001b[38;5;241;43m.\u001b[39;49m\u001b[43mduplicated\u001b[49m\u001b[43m(\u001b[49m\u001b[43m)\u001b[49m\u001b[38;5;241m.\u001b[39msum()\n",
      "File \u001b[1;32m~\\anaconda3\\envs\\dojo-env\\lib\\site-packages\\pandas\\core\\frame.py:6811\u001b[0m, in \u001b[0;36mDataFrame.duplicated\u001b[1;34m(self, subset, keep)\u001b[0m\n\u001b[0;32m   6809\u001b[0m \u001b[38;5;28;01melse\u001b[39;00m:\n\u001b[0;32m   6810\u001b[0m     vals \u001b[38;5;241m=\u001b[39m (col\u001b[38;5;241m.\u001b[39mvalues \u001b[38;5;28;01mfor\u001b[39;00m name, col \u001b[38;5;129;01min\u001b[39;00m \u001b[38;5;28mself\u001b[39m\u001b[38;5;241m.\u001b[39mitems() \u001b[38;5;28;01mif\u001b[39;00m name \u001b[38;5;129;01min\u001b[39;00m subset)\n\u001b[1;32m-> 6811\u001b[0m     labels, shape \u001b[38;5;241m=\u001b[39m \u001b[38;5;28mmap\u001b[39m(\u001b[38;5;28mlist\u001b[39m, \u001b[38;5;28;43mzip\u001b[39;49m\u001b[43m(\u001b[49m\u001b[38;5;241;43m*\u001b[39;49m\u001b[38;5;28;43mmap\u001b[39;49m\u001b[43m(\u001b[49m\u001b[43mf\u001b[49m\u001b[43m,\u001b[49m\u001b[43m \u001b[49m\u001b[43mvals\u001b[49m\u001b[43m)\u001b[49m\u001b[43m)\u001b[49m)\n\u001b[0;32m   6813\u001b[0m     ids \u001b[38;5;241m=\u001b[39m get_group_index(\n\u001b[0;32m   6814\u001b[0m         labels,\n\u001b[0;32m   6815\u001b[0m         \u001b[38;5;66;03m# error: Argument 1 to \"tuple\" has incompatible type \"List[_T]\";\u001b[39;00m\n\u001b[1;32m   (...)\u001b[0m\n\u001b[0;32m   6819\u001b[0m         xnull\u001b[38;5;241m=\u001b[39m\u001b[38;5;28;01mFalse\u001b[39;00m,\n\u001b[0;32m   6820\u001b[0m     )\n\u001b[0;32m   6821\u001b[0m     result \u001b[38;5;241m=\u001b[39m \u001b[38;5;28mself\u001b[39m\u001b[38;5;241m.\u001b[39m_constructor_sliced(duplicated(ids, keep), index\u001b[38;5;241m=\u001b[39m\u001b[38;5;28mself\u001b[39m\u001b[38;5;241m.\u001b[39mindex)\n",
      "File \u001b[1;32m~\\anaconda3\\envs\\dojo-env\\lib\\site-packages\\pandas\\core\\frame.py:6779\u001b[0m, in \u001b[0;36mDataFrame.duplicated.<locals>.f\u001b[1;34m(vals)\u001b[0m\n\u001b[0;32m   6778\u001b[0m \u001b[38;5;28;01mdef\u001b[39;00m \u001b[38;5;21mf\u001b[39m(vals) \u001b[38;5;241m-\u001b[39m\u001b[38;5;241m>\u001b[39m \u001b[38;5;28mtuple\u001b[39m[np\u001b[38;5;241m.\u001b[39mndarray, \u001b[38;5;28mint\u001b[39m]:\n\u001b[1;32m-> 6779\u001b[0m     labels, shape \u001b[38;5;241m=\u001b[39m \u001b[43malgorithms\u001b[49m\u001b[38;5;241;43m.\u001b[39;49m\u001b[43mfactorize\u001b[49m\u001b[43m(\u001b[49m\u001b[43mvals\u001b[49m\u001b[43m,\u001b[49m\u001b[43m \u001b[49m\u001b[43msize_hint\u001b[49m\u001b[38;5;241;43m=\u001b[39;49m\u001b[38;5;28;43mlen\u001b[39;49m\u001b[43m(\u001b[49m\u001b[38;5;28;43mself\u001b[39;49m\u001b[43m)\u001b[49m\u001b[43m)\u001b[49m\n\u001b[0;32m   6780\u001b[0m     \u001b[38;5;28;01mreturn\u001b[39;00m labels\u001b[38;5;241m.\u001b[39mastype(\u001b[38;5;124m\"\u001b[39m\u001b[38;5;124mi8\u001b[39m\u001b[38;5;124m\"\u001b[39m, copy\u001b[38;5;241m=\u001b[39m\u001b[38;5;28;01mFalse\u001b[39;00m), \u001b[38;5;28mlen\u001b[39m(shape)\n",
      "File \u001b[1;32m~\\anaconda3\\envs\\dojo-env\\lib\\site-packages\\pandas\\core\\algorithms.py:818\u001b[0m, in \u001b[0;36mfactorize\u001b[1;34m(values, sort, na_sentinel, use_na_sentinel, size_hint)\u001b[0m\n\u001b[0;32m    815\u001b[0m             \u001b[38;5;66;03m# Don't modify (potentially user-provided) array\u001b[39;00m\n\u001b[0;32m    816\u001b[0m             values \u001b[38;5;241m=\u001b[39m np\u001b[38;5;241m.\u001b[39mwhere(null_mask, na_value, values)\n\u001b[1;32m--> 818\u001b[0m     codes, uniques \u001b[38;5;241m=\u001b[39m \u001b[43mfactorize_array\u001b[49m\u001b[43m(\u001b[49m\n\u001b[0;32m    819\u001b[0m \u001b[43m        \u001b[49m\u001b[43mvalues\u001b[49m\u001b[43m,\u001b[49m\n\u001b[0;32m    820\u001b[0m \u001b[43m        \u001b[49m\u001b[43mna_sentinel\u001b[49m\u001b[38;5;241;43m=\u001b[39;49m\u001b[43mna_sentinel_arg\u001b[49m\u001b[43m,\u001b[49m\n\u001b[0;32m    821\u001b[0m \u001b[43m        \u001b[49m\u001b[43msize_hint\u001b[49m\u001b[38;5;241;43m=\u001b[39;49m\u001b[43msize_hint\u001b[49m\u001b[43m,\u001b[49m\n\u001b[0;32m    822\u001b[0m \u001b[43m    \u001b[49m\u001b[43m)\u001b[49m\n\u001b[0;32m    824\u001b[0m \u001b[38;5;28;01mif\u001b[39;00m sort \u001b[38;5;129;01mand\u001b[39;00m \u001b[38;5;28mlen\u001b[39m(uniques) \u001b[38;5;241m>\u001b[39m \u001b[38;5;241m0\u001b[39m:\n\u001b[0;32m    825\u001b[0m     \u001b[38;5;28;01mif\u001b[39;00m na_sentinel \u001b[38;5;129;01mis\u001b[39;00m \u001b[38;5;28;01mNone\u001b[39;00m:\n\u001b[0;32m    826\u001b[0m         \u001b[38;5;66;03m# TODO: Can remove when na_sentinel=na_sentinel as in TODO above\u001b[39;00m\n",
      "File \u001b[1;32m~\\anaconda3\\envs\\dojo-env\\lib\\site-packages\\pandas\\core\\algorithms.py:574\u001b[0m, in \u001b[0;36mfactorize_array\u001b[1;34m(values, na_sentinel, size_hint, na_value, mask)\u001b[0m\n\u001b[0;32m    571\u001b[0m hash_klass, values \u001b[38;5;241m=\u001b[39m _get_hashtable_algo(values)\n\u001b[0;32m    573\u001b[0m table \u001b[38;5;241m=\u001b[39m hash_klass(size_hint \u001b[38;5;129;01mor\u001b[39;00m \u001b[38;5;28mlen\u001b[39m(values))\n\u001b[1;32m--> 574\u001b[0m uniques, codes \u001b[38;5;241m=\u001b[39m \u001b[43mtable\u001b[49m\u001b[38;5;241;43m.\u001b[39;49m\u001b[43mfactorize\u001b[49m\u001b[43m(\u001b[49m\n\u001b[0;32m    575\u001b[0m \u001b[43m    \u001b[49m\u001b[43mvalues\u001b[49m\u001b[43m,\u001b[49m\n\u001b[0;32m    576\u001b[0m \u001b[43m    \u001b[49m\u001b[43mna_sentinel\u001b[49m\u001b[38;5;241;43m=\u001b[39;49m\u001b[43mna_sentinel\u001b[49m\u001b[43m,\u001b[49m\n\u001b[0;32m    577\u001b[0m \u001b[43m    \u001b[49m\u001b[43mna_value\u001b[49m\u001b[38;5;241;43m=\u001b[39;49m\u001b[43mna_value\u001b[49m\u001b[43m,\u001b[49m\n\u001b[0;32m    578\u001b[0m \u001b[43m    \u001b[49m\u001b[43mmask\u001b[49m\u001b[38;5;241;43m=\u001b[39;49m\u001b[43mmask\u001b[49m\u001b[43m,\u001b[49m\n\u001b[0;32m    579\u001b[0m \u001b[43m    \u001b[49m\u001b[43mignore_na\u001b[49m\u001b[38;5;241;43m=\u001b[39;49m\u001b[43mignore_na\u001b[49m\u001b[43m,\u001b[49m\n\u001b[0;32m    580\u001b[0m \u001b[43m\u001b[49m\u001b[43m)\u001b[49m\n\u001b[0;32m    582\u001b[0m \u001b[38;5;66;03m# re-cast e.g. i8->dt64/td64, uint8->bool\u001b[39;00m\n\u001b[0;32m    583\u001b[0m uniques \u001b[38;5;241m=\u001b[39m _reconstruct_data(uniques, original\u001b[38;5;241m.\u001b[39mdtype, original)\n",
      "File \u001b[1;32mpandas\\_libs\\hashtable_class_helper.pxi:5943\u001b[0m, in \u001b[0;36mpandas._libs.hashtable.PyObjectHashTable.factorize\u001b[1;34m()\u001b[0m\n",
      "File \u001b[1;32mpandas\\_libs\\hashtable_class_helper.pxi:5857\u001b[0m, in \u001b[0;36mpandas._libs.hashtable.PyObjectHashTable._unique\u001b[1;34m()\u001b[0m\n",
      "\u001b[1;31mTypeError\u001b[0m: unhashable type: 'list'"
     ]
    }
   ],
   "source": [
    "# check for duplicate results\n",
    "final_df.duplicated().sum()"
   ]
  },
  {
   "cell_type": "markdown",
   "id": "8e7e4f7a",
   "metadata": {},
   "source": [
    "This error is due to the results of our API call.\n",
    "\n",
    "Some values are entire lists instead of a single value so we can only check for duplicates in the ID column."
   ]
  },
  {
   "cell_type": "code",
   "execution_count": 35,
   "id": "00bded51",
   "metadata": {},
   "outputs": [
    {
     "data": {
      "text/plain": [
       "152"
      ]
     },
     "execution_count": 35,
     "metadata": {},
     "output_type": "execute_result"
    }
   ],
   "source": [
    "# check for duplicate ID's \n",
    "final_df.duplicated(subset='id').sum()"
   ]
  },
  {
   "cell_type": "code",
   "execution_count": 36,
   "id": "3b475fa1",
   "metadata": {},
   "outputs": [
    {
     "data": {
      "text/plain": [
       "0"
      ]
     },
     "execution_count": 36,
     "metadata": {},
     "output_type": "execute_result"
    }
   ],
   "source": [
    "## Drop duplicate ids and confirm there are no more duplicates\n",
    "final_df = final_df.drop_duplicates(subset='id')\n",
    "final_df.duplicated(subset='id').sum()"
   ]
  },
  {
   "cell_type": "markdown",
   "id": "29ba3f62",
   "metadata": {},
   "source": [
    "Save the final DataFrame to a .csv (or a .csv.gz if its too big for the GitHub file size limit)."
   ]
  },
  {
   "cell_type": "code",
   "execution_count": 37,
   "id": "35587a9e",
   "metadata": {},
   "outputs": [],
   "source": [
    "# save the final results to a compressed csv\n",
    "final_df.to_csv('Data/final_results_NY_pizza.csv.gz', compression='gzip',index=False)"
   ]
  },
  {
   "cell_type": "code",
   "execution_count": null,
   "id": "69e22c67",
   "metadata": {},
   "outputs": [],
   "source": []
  }
 ],
 "metadata": {
  "kernelspec": {
   "display_name": "Python (dojo-env)",
   "language": "python",
   "name": "dojo-env"
  },
  "language_info": {
   "codemirror_mode": {
    "name": "ipython",
    "version": 3
   },
   "file_extension": ".py",
   "mimetype": "text/x-python",
   "name": "python",
   "nbconvert_exporter": "python",
   "pygments_lexer": "ipython3",
   "version": "3.9.15"
  },
  "toc": {
   "base_numbering": 1,
   "nav_menu": {},
   "number_sections": false,
   "sideBar": true,
   "skip_h1_title": false,
   "title_cell": "Table of Contents",
   "title_sidebar": "Contents",
   "toc_cell": false,
   "toc_position": {
    "height": "calc(100% - 180px)",
    "left": "10px",
    "top": "150px",
    "width": "254.825px"
   },
   "toc_section_display": true,
   "toc_window_display": true
  }
 },
 "nbformat": 4,
 "nbformat_minor": 5
}
