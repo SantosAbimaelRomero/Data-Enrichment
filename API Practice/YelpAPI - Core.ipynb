{
 "cells": [
  {
   "cell_type": "markdown",
   "id": "b849a898",
   "metadata": {},
   "source": [
    "# Task\n",
    "___\n",
    "Create my own JSON file using efficient API call methods to retrieve data."
   ]
  },
  {
   "cell_type": "markdown",
   "id": "da740cac",
   "metadata": {},
   "source": [
    "## Imports"
   ]
  },
  {
   "cell_type": "code",
   "execution_count": 1,
   "id": "be4a167b",
   "metadata": {},
   "outputs": [],
   "source": [
    "# Imports\n",
    "import pandas as pd\n",
    "import math, time, json, os\n",
    "from yelpapi import YelpAPI\n",
    "from tqdm.notebook import tqdm_notebook"
   ]
  },
  {
   "cell_type": "markdown",
   "id": "002b9ebd",
   "metadata": {},
   "source": [
    "## API Settup / JSON File Creation"
   ]
  },
  {
   "cell_type": "code",
   "execution_count": 2,
   "id": "e13b9021",
   "metadata": {},
   "outputs": [],
   "source": [
    "# API Credentials\n",
    "with open('/Users/aveld/secret/yelp_api.json') as f:\n",
    "    login = json.load(f)\n",
    "    \n",
    "yelp_api = YelpAPI(login['api-key'], timeout_s=5.0)"
   ]
  },
  {
   "cell_type": "code",
   "execution_count": 3,
   "id": "200c77f0",
   "metadata": {},
   "outputs": [],
   "source": [
    "# API parameters\n",
    "LOCATION = 'Boston, MA'\n",
    "TERM = 'Ice Cream'"
   ]
  },
  {
   "cell_type": "code",
   "execution_count": 4,
   "id": "bb5fc57d",
   "metadata": {},
   "outputs": [
    {
     "data": {
      "text/plain": [
       "'Data/in_progress_boston_icecream.json'"
      ]
     },
     "execution_count": 4,
     "metadata": {},
     "output_type": "execute_result"
    }
   ],
   "source": [
    "# Specifying JSON File\n",
    "JSON_FILE = \"Data/in_progress_boston_icecream.json\"\n",
    "JSON_FILE"
   ]
  },
  {
   "cell_type": "code",
   "execution_count": 5,
   "id": "ef6c2ef8",
   "metadata": {},
   "outputs": [
    {
     "name": "stdout",
     "output_type": "stream",
     "text": [
      "[i] Data/in_progress_boston_icecream.json not found. Saving empty list to file.\n"
     ]
    }
   ],
   "source": [
    "## Check if JSON_FILE exists\n",
    "file_exists = os.path.isfile(JSON_FILE)\n",
    "\n",
    "## If it does not exist: \n",
    "if file_exists == False:\n",
    "\n",
    "    # Get the Folder Name\n",
    "    folder = os.path.dirname(JSON_FILE)\n",
    "    ## If JSON_FILE included a folder:\n",
    "    if len(folder)>0:\n",
    "        # create the folder\n",
    "        os.makedirs(folder,exist_ok=True)\n",
    "        \n",
    "        \n",
    "    ## Inform User\n",
    "    print(f'[i] {JSON_FILE} not found. Saving empty list to file.')\n",
    "    \n",
    "    \n",
    "    # Save an Empty List\n",
    "    with open(JSON_FILE,'w') as f:\n",
    "        json.dump([],f)\n",
    "\n",
    "# If it exists, inform user\n",
    "else:\n",
    "    print(f\"[i] {JSON_FILE} already exists.\")"
   ]
  },
  {
   "cell_type": "markdown",
   "id": "bb567c6c",
   "metadata": {},
   "source": [
    "## First API call"
   ]
  },
  {
   "cell_type": "code",
   "execution_count": 6,
   "id": "f0f9518d",
   "metadata": {},
   "outputs": [
    {
     "name": "stdout",
     "output_type": "stream",
     "text": [
      "0 previous results found. Offset set to 0\n"
     ]
    },
    {
     "data": {
      "text/plain": [
       "95"
      ]
     },
     "execution_count": 6,
     "metadata": {},
     "output_type": "execute_result"
    }
   ],
   "source": [
    "## Load previous results and use len of results for offset\n",
    "with open(JSON_FILE,'r') as f:\n",
    "    previous_results = json.load(f)\n",
    "    \n",
    "## set offset based on previous results\n",
    "n_results = len(previous_results)\n",
    "print(f'{n_results} previous results found. Offset set to {n_results}.')\n",
    "\n",
    "# Perform first API call\n",
    "results = yelp_api.search_query(location=LOCATION,\n",
    "                                term=TERM,\n",
    "                               offset=n_results)\n",
    "\n",
    "## Total results\n",
    "total_results = results['total']\n",
    "\n",
    "## Results in a single \"page\"\n",
    "results_per_page = len(results['businesses'])\n",
    "\n",
    "# Finding total number of pages\n",
    "n_pages = math.ceil((results['total']-n_results)/ results_per_page)\n",
    "n_pages"
   ]
  },
  {
   "cell_type": "markdown",
   "id": "4086f753",
   "metadata": {},
   "source": [
    "Now we have what we need to create the loop"
   ]
  },
  {
   "cell_type": "markdown",
   "id": "5fe0f7a9",
   "metadata": {},
   "source": [
    "## API call 'for' loop"
   ]
  },
  {
   "cell_type": "code",
   "execution_count": 7,
   "id": "bcc8d94f",
   "metadata": {
    "scrolled": true
   },
   "outputs": [
    {
     "data": {
      "application/vnd.jupyter.widget-view+json": {
       "model_id": "acfdbf39896c4fa3a6f588c19770d207",
       "version_major": 2,
       "version_minor": 0
      },
      "text/plain": [
       "  0%|          | 0/95 [00:00<?, ?it/s]"
      ]
     },
     "metadata": {},
     "output_type": "display_data"
    },
    {
     "name": "stdout",
     "output_type": "stream",
     "text": [
      "Exceeded 1,000 API calls. Stopping loop.\n"
     ]
    }
   ],
   "source": [
    "# Iterate through each page of results\n",
    "for i in tqdm_notebook(range(1,n_pages+1)):\n",
    "    \n",
    "    ## Read in results in progress file and check the length\n",
    "    with open(JSON_FILE, 'r') as f:\n",
    "        previous_results = json.load(f)\n",
    "        \n",
    "    ## create n_results to use as offset\n",
    "    n_results = len(previous_results)\n",
    "    \n",
    "    # The code will stop running once it exceeds 1,000 total results\n",
    "    if (n_results + results_per_page) > 1000:\n",
    "        print('Exceeded 1,000 API calls. Stopping loop.')\n",
    "        break\n",
    "    \n",
    "    ## API call saved in \"results\"\n",
    "    results = yelp_api.search_query(location=LOCATION,\n",
    "                                    term=TERM, \n",
    "                                    offset=n_results)\n",
    "    \n",
    "    \n",
    "    \n",
    "    ## append new results\n",
    "    previous_results.extend(results['businesses'])\n",
    "    \n",
    "    # Write new results to JSON file\n",
    "    with open(JSON_FILE,'w') as f:\n",
    "        json.dump(previous_results,f)\n",
    "    \n",
    "    time.sleep(.2)"
   ]
  },
  {
   "cell_type": "markdown",
   "id": "f4a89f27",
   "metadata": {},
   "source": [
    "## Creatind pd.DataFrame / Exporting Result"
   ]
  },
  {
   "cell_type": "code",
   "execution_count": 8,
   "id": "ddd4f43e",
   "metadata": {},
   "outputs": [],
   "source": [
    "# load final results\n",
    "\n",
    "# This creates the DataFrame\n",
    "df = pd.read_json(JSON_FILE)"
   ]
  },
  {
   "cell_type": "code",
   "execution_count": 9,
   "id": "24d2f2c7",
   "metadata": {},
   "outputs": [
    {
     "data": {
      "text/plain": [
       "0"
      ]
     },
     "execution_count": 9,
     "metadata": {},
     "output_type": "execute_result"
    }
   ],
   "source": [
    "## Drop duplicate IDs and confirm there are no more duplicates\n",
    "final_df = df.drop_duplicates(subset='id')\n",
    "final_df.duplicated(subset='id').sum()"
   ]
  },
  {
   "cell_type": "code",
   "execution_count": 10,
   "id": "669a0d05",
   "metadata": {},
   "outputs": [],
   "source": [
    "# save the final results to a compressed csv\n",
    "final_df.to_csv('Data/results_boston_icecream.csv.gz', compression='gzip',index=False)"
   ]
  }
 ],
 "metadata": {
  "kernelspec": {
   "display_name": "Python (dojo-env)",
   "language": "python",
   "name": "dojo-env"
  },
  "language_info": {
   "codemirror_mode": {
    "name": "ipython",
    "version": 3
   },
   "file_extension": ".py",
   "mimetype": "text/x-python",
   "name": "python",
   "nbconvert_exporter": "python",
   "pygments_lexer": "ipython3",
   "version": "3.9.15"
  },
  "toc": {
   "base_numbering": 1,
   "nav_menu": {},
   "number_sections": false,
   "sideBar": true,
   "skip_h1_title": false,
   "title_cell": "Table of Contents",
   "title_sidebar": "Contents",
   "toc_cell": false,
   "toc_position": {},
   "toc_section_display": true,
   "toc_window_display": false
  }
 },
 "nbformat": 4,
 "nbformat_minor": 5
}
