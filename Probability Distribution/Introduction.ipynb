{
 "cells": [
  {
   "cell_type": "markdown",
   "id": "8990672c",
   "metadata": {},
   "source": [
    "# Introduction: Main Ideas"
   ]
  },
  {
   "cell_type": "markdown",
   "id": "4d29d6f3",
   "metadata": {},
   "source": [
    "## SciPy ##\n",
    "___\n",
    "`SciPy` is a package in python that extends the capabilities of `NumPy`. Particularly useful when doing advanced math/statistic problems."
   ]
  },
  {
   "cell_type": "markdown",
   "id": "de5d0183",
   "metadata": {},
   "source": [
    "## Hypothesis Testing\n",
    "___\n",
    "A very important step for data scientist is determining whether an outcome is meaningful or not. For example, a company ran a test using different websites to see which works best, one of the websites stand out as best performer. As a data scientist, you must determine if the result was due to random chance or actually valid data proving which website is the best."
   ]
  },
  {
   "cell_type": "markdown",
   "id": "640eaa48",
   "metadata": {},
   "source": [
    "# Intro to Probability Distributions\n",
    "___\n",
    "Ultimately this lesson will help us to transition from viewing a distribution in terms of how often a value has occurred to the likelihood that a value would occur in the future."
   ]
  },
  {
   "cell_type": "markdown",
   "id": "cff487bb",
   "metadata": {},
   "source": [
    "Understanding the distribution of our data will help us decide which statistical tests/which machine learning models are appropriate. \n",
    "\n",
    "In general, statistical tests are broken into two main groups: `parametric tests` and `non-parametric tests`. \n",
    "\n",
    "> Parametric tests: when possible, are preferable because they are more powerful and easier to interpret.  In order to use parametric tests, the key requirement is that the data follows a normal distribution."
   ]
  }
 ],
 "metadata": {
  "kernelspec": {
   "display_name": "Python (dojo-env)",
   "language": "python",
   "name": "dojo-env"
  },
  "language_info": {
   "codemirror_mode": {
    "name": "ipython",
    "version": 3
   },
   "file_extension": ".py",
   "mimetype": "text/x-python",
   "name": "python",
   "nbconvert_exporter": "python",
   "pygments_lexer": "ipython3",
   "version": "3.9.15"
  },
  "toc": {
   "base_numbering": 1,
   "nav_menu": {},
   "number_sections": false,
   "sideBar": true,
   "skip_h1_title": false,
   "title_cell": "Table of Contents",
   "title_sidebar": "Contents",
   "toc_cell": false,
   "toc_position": {},
   "toc_section_display": true,
   "toc_window_display": false
  }
 },
 "nbformat": 4,
 "nbformat_minor": 5
}
