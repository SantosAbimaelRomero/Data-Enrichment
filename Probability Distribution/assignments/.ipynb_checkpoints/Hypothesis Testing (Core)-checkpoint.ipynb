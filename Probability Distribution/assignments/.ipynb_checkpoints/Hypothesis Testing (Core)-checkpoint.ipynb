{
 "cells": [
  {
   "cell_type": "code",
   "execution_count": 1,
   "id": "2091b9ef",
   "metadata": {},
   "outputs": [],
   "source": [
    "# Imports\n",
    "import pandas as pd\n",
    "import numpy as np\n",
    "import matplotlib.pyplot as plt\n",
    "import seaborn as sns\n",
    "import scipy.stats as stats"
   ]
  },
  {
   "cell_type": "code",
   "execution_count": 2,
   "id": "0449c402",
   "metadata": {},
   "outputs": [
    {
     "name": "stdout",
     "output_type": "stream",
     "text": [
      "<class 'pandas.core.frame.DataFrame'>\n",
      "RangeIndex: 1338 entries, 0 to 1337\n",
      "Data columns (total 7 columns):\n",
      " #   Column    Non-Null Count  Dtype  \n",
      "---  ------    --------------  -----  \n",
      " 0   age       1338 non-null   int64  \n",
      " 1   sex       1338 non-null   object \n",
      " 2   bmi       1338 non-null   float64\n",
      " 3   children  1338 non-null   int64  \n",
      " 4   smoker    1338 non-null   object \n",
      " 5   region    1338 non-null   object \n",
      " 6   charges   1338 non-null   float64\n",
      "dtypes: float64(2), int64(2), object(3)\n",
      "memory usage: 73.3+ KB\n"
     ]
    },
    {
     "data": {
      "text/html": [
       "<div>\n",
       "<style scoped>\n",
       "    .dataframe tbody tr th:only-of-type {\n",
       "        vertical-align: middle;\n",
       "    }\n",
       "\n",
       "    .dataframe tbody tr th {\n",
       "        vertical-align: top;\n",
       "    }\n",
       "\n",
       "    .dataframe thead th {\n",
       "        text-align: right;\n",
       "    }\n",
       "</style>\n",
       "<table border=\"1\" class=\"dataframe\">\n",
       "  <thead>\n",
       "    <tr style=\"text-align: right;\">\n",
       "      <th></th>\n",
       "      <th>age</th>\n",
       "      <th>sex</th>\n",
       "      <th>bmi</th>\n",
       "      <th>children</th>\n",
       "      <th>smoker</th>\n",
       "      <th>region</th>\n",
       "      <th>charges</th>\n",
       "    </tr>\n",
       "  </thead>\n",
       "  <tbody>\n",
       "    <tr>\n",
       "      <th>0</th>\n",
       "      <td>19</td>\n",
       "      <td>female</td>\n",
       "      <td>27.900</td>\n",
       "      <td>0</td>\n",
       "      <td>yes</td>\n",
       "      <td>southwest</td>\n",
       "      <td>16884.92400</td>\n",
       "    </tr>\n",
       "    <tr>\n",
       "      <th>1</th>\n",
       "      <td>18</td>\n",
       "      <td>male</td>\n",
       "      <td>33.770</td>\n",
       "      <td>1</td>\n",
       "      <td>no</td>\n",
       "      <td>southeast</td>\n",
       "      <td>1725.55230</td>\n",
       "    </tr>\n",
       "    <tr>\n",
       "      <th>2</th>\n",
       "      <td>28</td>\n",
       "      <td>male</td>\n",
       "      <td>33.000</td>\n",
       "      <td>3</td>\n",
       "      <td>no</td>\n",
       "      <td>southeast</td>\n",
       "      <td>4449.46200</td>\n",
       "    </tr>\n",
       "    <tr>\n",
       "      <th>3</th>\n",
       "      <td>33</td>\n",
       "      <td>male</td>\n",
       "      <td>22.705</td>\n",
       "      <td>0</td>\n",
       "      <td>no</td>\n",
       "      <td>northwest</td>\n",
       "      <td>21984.47061</td>\n",
       "    </tr>\n",
       "    <tr>\n",
       "      <th>4</th>\n",
       "      <td>32</td>\n",
       "      <td>male</td>\n",
       "      <td>28.880</td>\n",
       "      <td>0</td>\n",
       "      <td>no</td>\n",
       "      <td>northwest</td>\n",
       "      <td>3866.85520</td>\n",
       "    </tr>\n",
       "  </tbody>\n",
       "</table>\n",
       "</div>"
      ],
      "text/plain": [
       "   age     sex     bmi  children smoker     region      charges\n",
       "0   19  female  27.900         0    yes  southwest  16884.92400\n",
       "1   18    male  33.770         1     no  southeast   1725.55230\n",
       "2   28    male  33.000         3     no  southeast   4449.46200\n",
       "3   33    male  22.705         0     no  northwest  21984.47061\n",
       "4   32    male  28.880         0     no  northwest   3866.85520"
      ]
     },
     "execution_count": 2,
     "metadata": {},
     "output_type": "execute_result"
    }
   ],
   "source": [
    "df = pd.read_csv('insurance.csv')\n",
    "df.info()\n",
    "df.head()"
   ]
  },
  {
   "cell_type": "markdown",
   "id": "527130e2",
   "metadata": {},
   "source": [
    "# Do smokers have higher insurance charges than non-smokers?"
   ]
  },
  {
   "cell_type": "markdown",
   "id": "0a3a11cd",
   "metadata": {},
   "source": [
    "Null Hypothesis:\n",
    "\n",
    "There IS NO difference in charges.\n",
    "\n",
    "Alternative Hypothesis:\n",
    "\n",
    "There IS a difference in insurance charges\n",
    "\n",
    "Alpha Level:\n",
    "\n",
    "0.05"
   ]
  },
  {
   "cell_type": "code",
   "execution_count": 3,
   "id": "e86ec63e",
   "metadata": {},
   "outputs": [],
   "source": [
    "# Define our groups and features\n",
    "smoker = df.loc[df['smoker'] == 'yes'].copy()\n",
    "non_smoker = df.loc[df['smoker'] == 'no'].copy()\n",
    "\n",
    "smoker_charges = smoker['charges']\n",
    "non_smoker_charges = non_smoker['charges']"
   ]
  },
  {
   "cell_type": "code",
   "execution_count": 4,
   "id": "a71849db",
   "metadata": {},
   "outputs": [
    {
     "data": {
      "text/plain": [
       "no     1064\n",
       "yes     274\n",
       "Name: smoker, dtype: int64"
      ]
     },
     "execution_count": 4,
     "metadata": {},
     "output_type": "execute_result"
    }
   ],
   "source": [
    "# Check Sample Size\n",
    "df['smoker'].value_counts()\n",
    "# Far above 15 samples per group"
   ]
  },
  {
   "cell_type": "code",
   "execution_count": 5,
   "id": "ec28e6da",
   "metadata": {},
   "outputs": [
    {
     "data": {
      "text/plain": [
       "0"
      ]
     },
     "execution_count": 5,
     "metadata": {},
     "output_type": "execute_result"
    }
   ],
   "source": [
    "# Check for outliers\n",
    "zscores = stats.zscore(smoker_charges)\n",
    "outliers = abs(zscores)>3\n",
    "np.sum(outliers)"
   ]
  },
  {
   "cell_type": "code",
   "execution_count": 6,
   "id": "cca52d94",
   "metadata": {},
   "outputs": [
    {
     "data": {
      "text/plain": [
       "24"
      ]
     },
     "execution_count": 6,
     "metadata": {},
     "output_type": "execute_result"
    }
   ],
   "source": [
    "# Check for outliers\n",
    "zscores = stats.zscore(non_smoker_charges)\n",
    "outliers = abs(zscores)>3\n",
    "np.sum(outliers)"
   ]
  },
  {
   "cell_type": "code",
   "execution_count": 7,
   "id": "87c7e4f7",
   "metadata": {},
   "outputs": [],
   "source": [
    "# Remove Outliers\n",
    "non_smoker_charges = non_smoker_charges[(np.abs(stats.zscore(non_smoker_charges)) < 3)]"
   ]
  },
  {
   "cell_type": "code",
   "execution_count": 8,
   "id": "e8ce3524",
   "metadata": {},
   "outputs": [
    {
     "data": {
      "text/plain": [
       "19"
      ]
     },
     "execution_count": 8,
     "metadata": {},
     "output_type": "execute_result"
    }
   ],
   "source": [
    "zscores = stats.zscore(non_smoker_charges)\n",
    "outliers = abs(zscores)>3\n",
    "np.sum(outliers)"
   ]
  },
  {
   "cell_type": "code",
   "execution_count": 9,
   "id": "0834f988",
   "metadata": {},
   "outputs": [
    {
     "name": "stdout",
     "output_type": "stream",
     "text": [
      "NormaltestResult(statistic=61.03941356533816, pvalue=5.564930630036463e-14)\n"
     ]
    },
    {
     "data": {
      "text/plain": [
       "NormaltestResult(statistic=163.80367047789198, pvalue=2.6945416315543976e-36)"
      ]
     },
     "execution_count": 9,
     "metadata": {},
     "output_type": "execute_result"
    }
   ],
   "source": [
    "# Check for normality\n",
    "print(stats.normaltest(smoker_charges))\n",
    "stats.normaltest(non_smoker_charges)"
   ]
  },
  {
   "cell_type": "markdown",
   "id": "43d82a72",
   "metadata": {},
   "source": [
    "Both results are far below our alpha, so our data is not normal but our sample size is large enough to ignore this"
   ]
  },
  {
   "cell_type": "code",
   "execution_count": 10,
   "id": "8110ff75",
   "metadata": {},
   "outputs": [
    {
     "data": {
      "text/plain": [
       "LeveneResult(statistic=520.7468821724297, pvalue=2.4247238784347824e-97)"
      ]
     },
     "execution_count": 10,
     "metadata": {},
     "output_type": "execute_result"
    }
   ],
   "source": [
    "# Check for equal variance\n",
    "stats.levene(smoker_charges, non_smoker_charges)"
   ]
  },
  {
   "cell_type": "markdown",
   "id": "f8d5ca1d",
   "metadata": {},
   "source": [
    "There is no equal variance, will add `equal_var=False` to t-test."
   ]
  },
  {
   "cell_type": "code",
   "execution_count": 11,
   "id": "28eccd78",
   "metadata": {},
   "outputs": [
    {
     "data": {
      "text/plain": [
       "Ttest_indResult(statistic=33.732305987092516, pvalue=2.575322662587431e-104)"
      ]
     },
     "execution_count": 11,
     "metadata": {},
     "output_type": "execute_result"
    }
   ],
   "source": [
    "# Perform t-test\n",
    "stats.ttest_ind(smoker_charges, non_smoker_charges, equal_var=False)"
   ]
  },
  {
   "cell_type": "markdown",
   "id": "36290bb1",
   "metadata": {},
   "source": [
    "The p-value is far below our alpha level so we reject the null hypothesis.\n",
    "\n",
    "Answer:\n",
    "\n",
    "There is a difference in insurance charges between non-smokers and smokers"
   ]
  },
  {
   "cell_type": "code",
   "execution_count": 12,
   "id": "9fb1ffc7",
   "metadata": {},
   "outputs": [
    {
     "data": {
      "image/png": "[encoded data removed]",
      "text/plain": [
       "<Figure size 640x480 with 1 Axes>"
      ]
     },
     "metadata": {},
     "output_type": "display_data"
    }
   ],
   "source": [
    "# Visualization\n",
    "sns.histplot(data=df, x='charges', hue='smoker',common_norm=False, \n",
    "             stat='density',kde=True);"
   ]
  },
  {
   "cell_type": "markdown",
   "id": "465aa1a8",
   "metadata": {},
   "source": [
    "As we can see, non smokers are charged drastically less than smokers in insurance charges."
   ]
  },
  {
   "cell_type": "markdown",
   "id": "d00dbff7",
   "metadata": {},
   "source": [
    "# Are men more likely to smoke than women?"
   ]
  },
  {
   "cell_type": "markdown",
   "id": "f5e5885d",
   "metadata": {},
   "source": [
    "Null Hypothesis:\n",
    "\n",
    "There is no difference between which gender is more likely to smoke.\n",
    "\n",
    "Alternative Hypothesis:\n",
    "\n",
    "There is a difference between which gender is more likely to smoke.\n",
    "\n",
    "Alpha level:\n",
    "\n",
    "0.05"
   ]
  },
  {
   "cell_type": "code",
   "execution_count": 13,
   "id": "c682fe21",
   "metadata": {},
   "outputs": [
    {
     "data": {
      "text/html": [
       "<div>\n",
       "<style scoped>\n",
       "    .dataframe tbody tr th:only-of-type {\n",
       "        vertical-align: middle;\n",
       "    }\n",
       "\n",
       "    .dataframe tbody tr th {\n",
       "        vertical-align: top;\n",
       "    }\n",
       "\n",
       "    .dataframe thead th {\n",
       "        text-align: right;\n",
       "    }\n",
       "</style>\n",
       "<table border=\"1\" class=\"dataframe\">\n",
       "  <thead>\n",
       "    <tr style=\"text-align: right;\">\n",
       "      <th>smoker</th>\n",
       "      <th>no</th>\n",
       "      <th>yes</th>\n",
       "    </tr>\n",
       "    <tr>\n",
       "      <th>sex</th>\n",
       "      <th></th>\n",
       "      <th></th>\n",
       "    </tr>\n",
       "  </thead>\n",
       "  <tbody>\n",
       "    <tr>\n",
       "      <th>female</th>\n",
       "      <td>547</td>\n",
       "      <td>115</td>\n",
       "    </tr>\n",
       "    <tr>\n",
       "      <th>male</th>\n",
       "      <td>517</td>\n",
       "      <td>159</td>\n",
       "    </tr>\n",
       "  </tbody>\n",
       "</table>\n",
       "</div>"
      ],
      "text/plain": [
       "smoker   no  yes\n",
       "sex             \n",
       "female  547  115\n",
       "male    517  159"
      ]
     },
     "execution_count": 13,
     "metadata": {},
     "output_type": "execute_result"
    }
   ],
   "source": [
    "# Contingency table\n",
    "table = pd.crosstab(df['sex'], df['smoker'])\n",
    "table"
   ]
  },
  {
   "cell_type": "code",
   "execution_count": 14,
   "id": "be7df9cc",
   "metadata": {},
   "outputs": [
    {
     "name": "stdout",
     "output_type": "stream",
     "text": [
      "0.006548143503580696\n"
     ]
    },
    {
     "data": {
      "text/plain": [
       "True"
      ]
     },
     "execution_count": 14,
     "metadata": {},
     "output_type": "execute_result"
    }
   ],
   "source": [
    "chi2, p, deg_free, expected_vals = stats.chi2_contingency(table)\n",
    "\n",
    "print(p)\n",
    "p < 0.05"
   ]
  },
  {
   "cell_type": "markdown",
   "id": "7752d8db",
   "metadata": {},
   "source": [
    "The p-value is less than the alpha level, meaning we reject the null hypothesis. There is a relationship between sex and likelihood of smoking"
   ]
  },
  {
   "cell_type": "code",
   "execution_count": 15,
   "id": "f60f1bc7",
   "metadata": {},
   "outputs": [
    {
     "data": {
      "image/png": "[encoded data removed]",
      "text/plain": [
       "<Figure size 640x480 with 1 Axes>"
      ]
     },
     "metadata": {},
     "output_type": "display_data"
    }
   ],
   "source": [
    "# Visualization\n",
    "sns.countplot(data=df, x='sex', hue='smoker');"
   ]
  },
  {
   "cell_type": "markdown",
   "id": "97e702b8",
   "metadata": {},
   "source": [
    "We can see that males are more likely to smoke and vice versa, females are more likely to not smoke"
   ]
  },
  {
   "cell_type": "markdown",
   "id": "65fc2b91",
   "metadata": {},
   "source": [
    "# Do different regions have different charges, on average?"
   ]
  },
  {
   "cell_type": "markdown",
   "id": "91e17325",
   "metadata": {},
   "source": [
    "Null Hypothesis:\n",
    "\n",
    "Different regions DO NOT have different charges, on average\n",
    "\n",
    "Alternative Hypothesis:\n",
    "\n",
    "Different regions DO have different charges, on average\n",
    "\n",
    "Alpha Level:\n",
    "\n",
    "0.05"
   ]
  },
  {
   "cell_type": "code",
   "execution_count": 22,
   "id": "cd834682",
   "metadata": {},
   "outputs": [
    {
     "data": {
      "text/plain": [
       "southeast    364\n",
       "southwest    325\n",
       "northwest    325\n",
       "northeast    324\n",
       "Name: region, dtype: int64"
      ]
     },
     "execution_count": 22,
     "metadata": {},
     "output_type": "execute_result"
    }
   ],
   "source": [
    "# Number of samples per group\n",
    "df['region'].value_counts()"
   ]
  },
  {
   "cell_type": "code",
   "execution_count": 23,
   "id": "d3c1d49e",
   "metadata": {
    "scrolled": false
   },
   "outputs": [
    {
     "data": {
      "image/png": "[encoded data removed]",
      "text/plain": [
       "<Figure size 1500x800 with 4 Axes>"
      ]
     },
     "metadata": {},
     "output_type": "display_data"
    }
   ],
   "source": [
    "# Visualization of Groups\n",
    "\n",
    "fig, ax = plt.subplots(nrows=2, ncols=2, figsize=(15,8))\n",
    "fig.tight_layout(pad=3)\n",
    "ax = ax.ravel()\n",
    "\n",
    "sns.histplot(data=df1, x=df1.loc[df['region'] == 'southeast', 'charges'], ax=ax[0])\n",
    "ax[0].set_title('southeast')\n",
    "\n",
    "sns.histplot(data=df1, x=df1.loc[df['region'] == 'northeast', 'charges'], ax=ax[1])\n",
    "ax[1].set_title('northeast')\n",
    "\n",
    "sns.histplot(data=df1, x=df1.loc[df['region'] == 'southwest', 'charges'], ax=ax[2])\n",
    "ax[2].set_title('southwest')\n",
    "\n",
    "sns.histplot(data=df1, x=df1.loc[df['region'] == 'northwest', 'charges'], ax=ax[3])\n",
    "ax[3].set_title('northwest');"
   ]
  },
  {
   "cell_type": "code",
   "execution_count": 26,
   "id": "b796cbac",
   "metadata": {},
   "outputs": [
    {
     "data": {
      "text/plain": [
       "dict_keys(['southwest', 'southeast', 'northwest', 'northeast'])"
      ]
     },
     "execution_count": 26,
     "metadata": {},
     "output_type": "execute_result"
    }
   ],
   "source": [
    "# Creating Dictionary\n",
    "\n",
    "region = {}\n",
    "\n",
    "for i in df['region'].unique():\n",
    "    data = df.loc[df['region'] == i, 'charges'].copy()\n",
    "    region[i] = data\n",
    "\n",
    "region.keys()"
   ]
  },
  {
   "cell_type": "code",
   "execution_count": 27,
   "id": "2052f481",
   "metadata": {},
   "outputs": [],
   "source": [
    "# Removing Outliers\n",
    "\n",
    "region_cln = {}\n",
    "\n",
    "for keys, data in region.items():\n",
    "    \n",
    "    outliers = np.abs(stats.zscore(data)) > 3\n",
    "    \n",
    "    data_cln = data[outliers == False]\n",
    "    \n",
    "    region_cln[keys] = data_cln\n"
   ]
  },
  {
   "cell_type": "code",
   "execution_count": 29,
   "id": "8b9f7bf9",
   "metadata": {},
   "outputs": [
    {
     "data": {
      "text/html": [
       "<div>\n",
       "<style scoped>\n",
       "    .dataframe tbody tr th:only-of-type {\n",
       "        vertical-align: middle;\n",
       "    }\n",
       "\n",
       "    .dataframe tbody tr th {\n",
       "        vertical-align: top;\n",
       "    }\n",
       "\n",
       "    .dataframe thead th {\n",
       "        text-align: right;\n",
       "    }\n",
       "</style>\n",
       "<table border=\"1\" class=\"dataframe\">\n",
       "  <thead>\n",
       "    <tr style=\"text-align: right;\">\n",
       "      <th></th>\n",
       "      <th>n</th>\n",
       "      <th>stat</th>\n",
       "      <th>p-value</th>\n",
       "    </tr>\n",
       "  </thead>\n",
       "  <tbody>\n",
       "    <tr>\n",
       "      <th>southwest</th>\n",
       "      <td>317.0</td>\n",
       "      <td>97.223886</td>\n",
       "      <td>7.728611e-22</td>\n",
       "    </tr>\n",
       "    <tr>\n",
       "      <th>southeast</th>\n",
       "      <td>362.0</td>\n",
       "      <td>58.544942</td>\n",
       "      <td>1.936990e-13</td>\n",
       "    </tr>\n",
       "    <tr>\n",
       "      <th>northwest</th>\n",
       "      <td>318.0</td>\n",
       "      <td>85.341045</td>\n",
       "      <td>2.940543e-19</td>\n",
       "    </tr>\n",
       "    <tr>\n",
       "      <th>northeast</th>\n",
       "      <td>320.0</td>\n",
       "      <td>75.749565</td>\n",
       "      <td>3.557877e-17</td>\n",
       "    </tr>\n",
       "  </tbody>\n",
       "</table>\n",
       "</div>"
      ],
      "text/plain": [
       "               n       stat       p-value\n",
       "southwest  317.0  97.223886  7.728611e-22\n",
       "southeast  362.0  58.544942  1.936990e-13\n",
       "northwest  318.0  85.341045  2.940543e-19\n",
       "northeast  320.0  75.749565  3.557877e-17"
      ]
     },
     "execution_count": 29,
     "metadata": {},
     "output_type": "execute_result"
    }
   ],
   "source": [
    "# Normality Test\n",
    "ntest = {}\n",
    "\n",
    "for keys, data in region_cln.items():\n",
    "    stat, p = stats.normaltest(data)\n",
    "    \n",
    "    ntest[keys] = {'n': len(data),\n",
    "            'stat': stat,\n",
    "            'p-value': p}\n",
    "\n",
    "ntest_df = pd.DataFrame(ntest).T\n",
    "ntest_df"
   ]
  },
  {
   "cell_type": "code",
   "execution_count": 32,
   "id": "998784d6",
   "metadata": {},
   "outputs": [
    {
     "data": {
      "text/html": [
       "<div>\n",
       "<style scoped>\n",
       "    .dataframe tbody tr th:only-of-type {\n",
       "        vertical-align: middle;\n",
       "    }\n",
       "\n",
       "    .dataframe tbody tr th {\n",
       "        vertical-align: top;\n",
       "    }\n",
       "\n",
       "    .dataframe thead th {\n",
       "        text-align: right;\n",
       "    }\n",
       "</style>\n",
       "<table border=\"1\" class=\"dataframe\">\n",
       "  <thead>\n",
       "    <tr style=\"text-align: right;\">\n",
       "      <th></th>\n",
       "      <th>n</th>\n",
       "      <th>stat</th>\n",
       "      <th>p-value</th>\n",
       "      <th>normal</th>\n",
       "    </tr>\n",
       "  </thead>\n",
       "  <tbody>\n",
       "    <tr>\n",
       "      <th>southwest</th>\n",
       "      <td>317.0</td>\n",
       "      <td>97.223886</td>\n",
       "      <td>7.728611e-22</td>\n",
       "      <td>False</td>\n",
       "    </tr>\n",
       "    <tr>\n",
       "      <th>southeast</th>\n",
       "      <td>362.0</td>\n",
       "      <td>58.544942</td>\n",
       "      <td>1.936990e-13</td>\n",
       "      <td>False</td>\n",
       "    </tr>\n",
       "    <tr>\n",
       "      <th>northwest</th>\n",
       "      <td>318.0</td>\n",
       "      <td>85.341045</td>\n",
       "      <td>2.940543e-19</td>\n",
       "      <td>False</td>\n",
       "    </tr>\n",
       "    <tr>\n",
       "      <th>northeast</th>\n",
       "      <td>320.0</td>\n",
       "      <td>75.749565</td>\n",
       "      <td>3.557877e-17</td>\n",
       "      <td>False</td>\n",
       "    </tr>\n",
       "  </tbody>\n",
       "</table>\n",
       "</div>"
      ],
      "text/plain": [
       "               n       stat       p-value  normal\n",
       "southwest  317.0  97.223886  7.728611e-22   False\n",
       "southeast  362.0  58.544942  1.936990e-13   False\n",
       "northwest  318.0  85.341045  2.940543e-19   False\n",
       "northeast  320.0  75.749565  3.557877e-17   False"
      ]
     },
     "execution_count": 32,
     "metadata": {},
     "output_type": "execute_result"
    }
   ],
   "source": [
    "# Is the p-value less than the alpha?\n",
    "ntest_df['normal'] = ntest_df['p-value'] < 0.05\n",
    "ntest_df"
   ]
  },
  {
   "cell_type": "code",
   "execution_count": 37,
   "id": "81bc0a71",
   "metadata": {},
   "outputs": [
    {
     "name": "stdout",
     "output_type": "stream",
     "text": [
      "Sample size for southwest region:\n",
      "325\n",
      "\n",
      "Sample size for southeast region:\n",
      "364\n",
      "\n",
      "Sample size for northwest region:\n",
      "325\n",
      "\n",
      "Sample size for northeast region:\n",
      "324\n",
      "\n"
     ]
    }
   ],
   "source": [
    "for i in df['region'].unique():\n",
    "    print(f\"\"\"Sample size for {i} region:\n",
    "{df[df['region'] == i].value_counts().sum()}\n",
    "\"\"\")"
   ]
  },
  {
   "cell_type": "markdown",
   "id": "3a651557",
   "metadata": {},
   "source": [
    "The p-value is less than the alpha for all regions, they all are not normal distributions, but they are all large enough samples that this can be ignored. (At least 15 samples)"
   ]
  },
  {
   "cell_type": "code",
   "execution_count": 40,
   "id": "2c46acd9",
   "metadata": {},
   "outputs": [
    {
     "data": {
      "text/plain": [
       "LeveneResult(statistic=9.518349004554441, pvalue=3.2035503711783993e-06)"
      ]
     },
     "execution_count": 40,
     "metadata": {},
     "output_type": "execute_result"
    }
   ],
   "source": [
    "# Testing for equal variance\n",
    "stats.levene(*region_cln.values())"
   ]
  },
  {
   "cell_type": "markdown",
   "id": "857580fe",
   "metadata": {},
   "source": [
    "The p-value is much smaller than our alpha level, meaning there is no equal variance.\n",
    "\n",
    "I will instead use a non-parametric test for this hypothesis.\n",
    "In this case specifically, I will run a Kruskal-Wallis test instead of the one-way ANOVA test"
   ]
  },
  {
   "cell_type": "code",
   "execution_count": 42,
   "id": "3bc9512f",
   "metadata": {},
   "outputs": [
    {
     "data": {
      "text/plain": [
       "KruskalResult(statistic=6.914045702545643, pvalue=0.07468847911322242)"
      ]
     },
     "execution_count": 42,
     "metadata": {},
     "output_type": "execute_result"
    }
   ],
   "source": [
    "stats.kruskal(*region_cln.values())"
   ]
  },
  {
   "cell_type": "markdown",
   "id": "43d1980d",
   "metadata": {},
   "source": [
    "My p-value is greater than the alpha level, meaning we fail to reject the null hypothesis.\n",
    "\n",
    "Final Answer:\n",
    "\n",
    "Different regions DO NOT have statistically significant differences in terms of insurance charges being made."
   ]
  },
  {
   "cell_type": "code",
   "execution_count": null,
   "id": "2f770ff8",
   "metadata": {},
   "outputs": [],
   "source": [
    "dd"
   ]
  }
 ],
 "metadata": {
  "kernelspec": {
   "display_name": "Python (dojo-env)",
   "language": "python",
   "name": "dojo-env"
  },
  "language_info": {
   "codemirror_mode": {
    "name": "ipython",
    "version": 3
   },
   "file_extension": ".py",
   "mimetype": "text/x-python",
   "name": "python",
   "nbconvert_exporter": "python",
   "pygments_lexer": "ipython3",
   "version": "3.9.15"
  },
  "toc": {
   "base_numbering": 1,
   "nav_menu": {},
   "number_sections": false,
   "sideBar": true,
   "skip_h1_title": false,
   "title_cell": "Table of Contents",
   "title_sidebar": "Contents",
   "toc_cell": false,
   "toc_position": {
    "height": "calc(100% - 180px)",
    "left": "10px",
    "top": "150px",
    "width": "404px"
   },
   "toc_section_display": true,
   "toc_window_display": false
  }
 },
 "nbformat": 4,
 "nbformat_minor": 5
}
